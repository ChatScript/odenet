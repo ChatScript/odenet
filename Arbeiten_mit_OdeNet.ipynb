{
 "cells": [
  {
   "cell_type": "code",
   "execution_count": 1,
   "metadata": {},
   "outputs": [],
   "source": [
    "from odenet import *"
   ]
  },
  {
   "cell_type": "markdown",
   "metadata": {},
   "source": [
    "Um Änderungen an OdeNet zu machen, erstellt man zunächst eine lokale Kopie, bei der die Einträge jeweils auf einer Zeile stehen."
   ]
  },
  {
   "cell_type": "code",
   "execution_count": null,
   "metadata": {},
   "outputs": [],
   "source": [
    "format_odenet_oneline()"
   ]
  },
  {
   "cell_type": "code",
   "execution_count": 2,
   "metadata": {
    "scrolled": true
   },
   "outputs": [
    {
     "name": "stdout",
     "output_type": "stream",
     "text": [
      "Lied n \n",
      "SENSE: odenet-1540-n  ('i73641', [], 'Musikalisches Werk.', [('hypernym', 'odenet-15512-n')], ['Stück', 'Komposition', 'Musikstück', 'Lied', 'Track', 'Titel'])\n",
      "\n",
      "SENSE: odenet-15493-n  ('i73707', [], 'Musikalische Komposition mit Wörtern.', [('mero_part', 'odenet-7410-n'), ('hypernym', 'odenet-1540-n')], ['Lied', 'Song', 'Kantate'])\n",
      "\n",
      "HYPERNYMS: [('w7633_1540-n', 'odenet-15512-n', ['Artefakt', 'Werk', 'Opus', 'Arbeitsergebnis', 'Handlungsprodukt']), ('w7633_15493-n', 'odenet-1540-n', ['Stück', 'Komposition', 'Musikstück', 'Lied', 'Track', 'Titel'])]\n",
      "HYPONYMS: []\n",
      "MERONYMS: [('w7633_15493-n', 'odenet-7410-n', ['Kehrreim', 'Refrain'])]\n",
      "HOLONYMS: []\n",
      "ANTONYMS: []\n",
      "LEMMA: Lied\n",
      "POS: n\n",
      "SENSE ID: w7633_15493-n\n"
     ]
    }
   ],
   "source": [
    "OdeNet.word_info(\"Lied\")"
   ]
  },
  {
   "cell_type": "markdown",
   "metadata": {},
   "source": [
    "Um etwas im englischen PWN nachzuschlagen, muss man zunächst den lokalen Pfad in der Datei odenet_class.py anpassen."
   ]
  },
  {
   "cell_type": "code",
   "execution_count": null,
   "metadata": {},
   "outputs": [],
   "source": [
    "OdeNet.check_ili_in_pwn(\"composition\")"
   ]
  },
  {
   "cell_type": "code",
   "execution_count": null,
   "metadata": {},
   "outputs": [],
   "source": [
    "# Definitionen einfügen'odenet-35395-a','Etwas, das nicht getan werden kann',r\"C:\\Users\\melaniesiegel\\Documents\\05_Projekte\\WordNet\\OdeNet\\deWNaccess\\odenet_oneline.xml\")\n",
    "add_definition_to_ss('odenet-15493-n','Musikalische Komposition mit Wörtern.',\"odenet_oneline.xml\")"
   ]
  },
  {
   "cell_type": "code",
   "execution_count": null,
   "metadata": {},
   "outputs": [],
   "source": []
  },
  {
   "cell_type": "code",
   "execution_count": null,
   "metadata": {
    "scrolled": true
   },
   "outputs": [],
   "source": [
    "# Englische Definitionen löschen\n",
    "delete_english_definition('odenet-15493-n',\"odenet_oneline.xml\")"
   ]
  },
  {
   "cell_type": "code",
   "execution_count": null,
   "metadata": {
    "scrolled": true
   },
   "outputs": [],
   "source": [
    "# Attribute (v.a. ili) im Synset verändern\n",
    "\n",
    "change_attribute_in_ss('odenet-1540-n','ili','i73641',\"odenet_oneline.xml\")\n"
   ]
  },
  {
   "cell_type": "code",
   "execution_count": null,
   "metadata": {},
   "outputs": [],
   "source": [
    "# Relationen zum Synset hinzufügen\n",
    "\n",
    "add_rel_to_ss(\"odenet-15493-n\",\"<SynsetRelation target='odenet-1540-n' relType='hypernym'/>\",\"odenet_oneline.xml\")"
   ]
  },
  {
   "cell_type": "code",
   "execution_count": null,
   "metadata": {},
   "outputs": [],
   "source": [
    "# Beispiel einfügen\n",
    "\n",
    "add_example_to_ss('odenet-15493-n','Sie singt ein Lied.',\"odenet_oneline.xml\")"
   ]
  },
  {
   "cell_type": "code",
   "execution_count": null,
   "metadata": {},
   "outputs": [],
   "source": [
    "# Attribute zum LexEntry hinzufügen, z.B. confidenceScore\n",
    "change_attribute_in_lexentry(\"Lied\",\"confidenceScore\",\"1.0\",\"odenet_oneline.xml\")"
   ]
  },
  {
   "cell_type": "code",
   "execution_count": null,
   "metadata": {},
   "outputs": [],
   "source": [
    "# Attribute zum Sense hinzufügen, z.B. note=\"PHON:buːt\"\n",
    "add_attribute_to_sense(\"w4007_15099-n\",\"odenet-15099-n\",\"note\",\"PHON:teˈnoːɐ̯\",\"odenet_oneline.xml\")\n",
    "\n"
   ]
  },
  {
   "cell_type": "code",
   "execution_count": null,
   "metadata": {},
   "outputs": [],
   "source": [
    "# Hyponyme und Hyperonyme visualisieren\n",
    "OdeNet.visualize(\"Schirm\")"
   ]
  },
  {
   "cell_type": "code",
   "execution_count": null,
   "metadata": {},
   "outputs": [],
   "source": [
    "# In schönerem Format speichern, sodass das eingecheckt werden kann\n",
    "\n",
    "prettyprint_odenet()"
   ]
  },
  {
   "cell_type": "code",
   "execution_count": null,
   "metadata": {},
   "outputs": [],
   "source": []
  }
 ],
 "metadata": {
  "kernelspec": {
   "display_name": "Python 3",
   "language": "python",
   "name": "python3"
  },
  "language_info": {
   "codemirror_mode": {
    "name": "ipython",
    "version": 3
   },
   "file_extension": ".py",
   "mimetype": "text/x-python",
   "name": "python",
   "nbconvert_exporter": "python",
   "pygments_lexer": "ipython3",
   "version": "3.7.6"
  }
 },
 "nbformat": 4,
 "nbformat_minor": 4
}
