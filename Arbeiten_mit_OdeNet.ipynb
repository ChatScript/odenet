{
 "cells": [
  {
   "cell_type": "code",
   "execution_count": 1,
   "metadata": {},
   "outputs": [],
   "source": [
    "from odenet import *"
   ]
  },
  {
   "cell_type": "markdown",
   "metadata": {},
   "source": [
    "Um Änderungen an OdeNet zu machen, erstellt man zunächst eine lokale Kopie, bei der die Einträge jeweils auf einer Zeile stehen."
   ]
  },
  {
   "cell_type": "code",
   "execution_count": 2,
   "metadata": {},
   "outputs": [],
   "source": [
    "format_odenet_oneline()"
   ]
  },
  {
   "cell_type": "code",
   "execution_count": 3,
   "metadata": {
    "scrolled": true
   },
   "outputs": [
    {
     "name": "stdout",
     "output_type": "stream",
     "text": [
      "Pandemie n \n",
      "SENSE: odenet-12355-n  ('i75790', [], 'Geografisch weit verbreitete Epidemie, die in einer ganzen Region oder sogar in der ganzen Welt auftritt.', [('hypernym', 'odenet-335-n'), ('mero_member', 'odenet-362313-n')], ['weltweite Seuche', 'Pandemie'])\n",
      "\n",
      "HYPERNYMS: [('w48454_12355-n', 'odenet-335-n', ['Plage', 'Massenerkrankung', 'Massenepidemie', 'Epidemie', 'Gottesgeißel', 'Geißel der Menschheit', 'Pestilenz', 'Seuche', 'Landplage'])]\n",
      "HYPONYMS: []\n",
      "MERONYMS: []\n",
      "HOLONYMS: []\n",
      "ANTONYMS: []\n",
      "LEMMA: Pandemie\n",
      "POS: n\n",
      "SENSE ID: w48454_12355-n\n"
     ]
    }
   ],
   "source": [
    "OdeNet.word_info(\"Pandemie\")"
   ]
  },
  {
   "cell_type": "markdown",
   "metadata": {},
   "source": [
    "Um etwas im englischen PWN nachzuschlagen, muss man den lokalen Pfad angeben."
   ]
  },
  {
   "cell_type": "code",
   "execution_count": 4,
   "metadata": {},
   "outputs": [
    {
     "name": "stdout",
     "output_type": "stream",
     "text": [
      "['lockdown']\n",
      "i41411\n",
      "the act of confining prisoners to their cells (usually to regain control during a riot)\n"
     ]
    }
   ],
   "source": [
    "OdeNet.check_ili_in_pwn(\"lockdown\", r\"C:\\Users\\melaniesiegel\\Documents\\05_Projekte\\WordNet\\English_WN\\english-wordnet-2020.xml\")"
   ]
  },
  {
   "cell_type": "code",
   "execution_count": 4,
   "metadata": {},
   "outputs": [
    {
     "name": "stdout",
     "output_type": "stream",
     "text": [
      "<Synset id=\"odenet-362313-n\" ili=\"\" partOfSpeech=\"n\"><Definition>Unterbindung von Kontakten zwischen Menschen, z.B. um einer Pandemie zu begegnen.</Definition></Synset>\n",
      "\n"
     ]
    }
   ],
   "source": [
    "# Definitionen einfügen'odenet-35395-a','Etwas, das nicht getan werden kann',r\"C:\\Users\\melaniesiegel\\Documents\\05_Projekte\\WordNet\\OdeNet\\deWNaccess\\odenet_oneline.xml\")\n",
    "add_definition_to_ss('odenet-362313-n','Unterbindung von Kontakten zwischen Menschen, z.B. um einer Pandemie zu begegnen.',\"odenet_oneline.xml\")"
   ]
  },
  {
   "cell_type": "code",
   "execution_count": 11,
   "metadata": {
    "scrolled": true
   },
   "outputs": [
    {
     "name": "stdout",
     "output_type": "stream",
     "text": [
      "<Synset id=\"odenet-335-n\" ili=\"i110903\" partOfSpeech=\"n\" ><Definition>epidemische Krankheit mit einer hohen Todesrate.</Definition><SynsetRelation target='odenet-1149-n' relType='hypernym'/><SynsetRelation target='odenet-11204-n' relType='hyponym'/><SynsetRelation target='odenet-28228-n' relType='hyponym'/><SynsetRelation target='odenet-30237-n' relType='hyponym'/><SynsetRelation target='odenet-12355-n' relType='hyponym'/></Synset>\n",
      "\n"
     ]
    }
   ],
   "source": [
    "# Englische Definitionen löschen\n",
    "delete_english_definition('odenet-335-n',\"odenet_oneline.xml\")"
   ]
  },
  {
   "cell_type": "code",
   "execution_count": 5,
   "metadata": {
    "scrolled": true
   },
   "outputs": [
    {
     "name": "stdout",
     "output_type": "stream",
     "text": [
      "<Synset id=\"odenet-362313-n\" ili=\"i41411\" partOfSpeech=\"n\"><Definition>Unterbindung von Kontakten zwischen Menschen, z.B. um einer Pandemie zu begegnen.</Definition></Synset>\n",
      "\n"
     ]
    }
   ],
   "source": [
    "# Attribute (v.a. ili) im Synset verändern\n",
    "\n",
    "change_attribute_in_ss('odenet-362313-n','ili','i41411',\"odenet_oneline.xml\")\n"
   ]
  },
  {
   "cell_type": "code",
   "execution_count": 7,
   "metadata": {},
   "outputs": [
    {
     "name": "stdout",
     "output_type": "stream",
     "text": [
      "<Synset id=\"odenet-626-v\" ili=\"i22528\" partOfSpeech=\"v\" ><Definition>etwas bearbeiten, sodass es in einer besseren Form ist.</Definition><SynsetRelation target='odenet-619-v' relType='antonym'/></Synset>\n",
      "\n",
      "<Synset id=\"odenet-619-v\" ili=\"i75709\" partOfSpeech=\"v\" dc:description=\"the occurrence of a change for the worse\"><SynsetRelation target='odenet-891-n' relType='hypernym'/><SynsetRelation target='odenet-22059-n' relType='hyponym'/><SynsetRelation target='odenet-3253-n' relType='hyponym'/><SynsetRelation target='odenet-12745-v' relType='antonym'/><SynsetRelation target='odenet-626-v' relType='antonym'/></Synset>\n",
      "\n"
     ]
    }
   ],
   "source": [
    "# Antonym-Relation zum Synset hinzufügen\n",
    "\n",
    "add_antonym_rel_to_ss(\"odenet-626-v\",\"odenet-619-v\",\"odenet_oneline.xml\")"
   ]
  },
  {
   "cell_type": "code",
   "execution_count": 6,
   "metadata": {},
   "outputs": [
    {
     "name": "stdout",
     "output_type": "stream",
     "text": [
      "<Synset id=\"odenet-362313-n\" ili=\"i41411\" partOfSpeech=\"n\"><Definition>Unterbindung von Kontakten zwischen Menschen, z.B. um einer Pandemie zu begegnen.</Definition><SynsetRelation target='odenet-13085-n' relType='hypernym'/></Synset>\n",
      "\n",
      "<Synset id=\"odenet-13085-n\" ili=\"i106883\" partOfSpeech=\"n\" confidenceScore=\"1.0\"><Definition>Die notwendigen Mittel</Definition><SynsetRelation target='odenet-4-n' relType='hyponym'/><SynsetRelation target='odenet-28800-n' relType='hyponym'/><SynsetRelation target='odenet-11558-n' relType='hyponym'/><SynsetRelation target='odenet-362313-n' relType='hyponym'/></Synset>\n",
      "\n"
     ]
    }
   ],
   "source": [
    "# Hyperonym-Relation zum Synset hinzufügen\n",
    "# add_hypernym_rel_to_ss(hyponym, hyperonym, wordnet)\n",
    "\n",
    "add_hypernym_rel_to_ss(\"odenet-362313-n\",\"odenet-13085-n\",\"odenet_oneline.xml\")"
   ]
  },
  {
   "cell_type": "code",
   "execution_count": 7,
   "metadata": {},
   "outputs": [
    {
     "name": "stdout",
     "output_type": "stream",
     "text": [
      "<Synset id=\"odenet-12355-n\" ili=\"i75790\" partOfSpeech=\"n\" ><Definition>Geografisch weit verbreitete Epidemie, die in einer ganzen Region oder sogar in der ganzen Welt auftritt.</Definition><SynsetRelation target='odenet-335-n' relType='hypernym'/><SynsetRelation target='odenet-362313-n' relType='mero_member'/><Example>Die Pandemie führte 2020 zum weltweiten Lockdown.</Example></Synset>\n",
      "\n",
      "<Synset id=\"odenet-362313-n\" ili=\"i41411\" partOfSpeech=\"n\"><Definition>Unterbindung von Kontakten zwischen Menschen, z.B. um einer Pandemie zu begegnen.</Definition><SynsetRelation target='odenet-13085-n' relType='hypernym'/><SynsetRelation target='odenet-12355-n' relType='holo_member'/><Example>Die Entwicklung der Pandemie machte einen Lockdown notwendig.</Example></Synset>\n",
      "\n"
     ]
    }
   ],
   "source": [
    "# Meronymie-Information zum Synset hinzufügen\n",
    "# Finger ist Meronym von Hand, Hand ist Holonym von Finger\n",
    "# add_mero_member_rel_to_ss(Holonym,Meronym,Wordnet)\n",
    "# z.B. add_mero_member_rel_to_ss(Hand-Synset, Finger-Synset,'odenet_oneline.xml')\n",
    "\n",
    "add_mero_member_rel_to_ss('odenet-12355-n','odenet-362313-n','odenet_oneline.xml')"
   ]
  },
  {
   "cell_type": "code",
   "execution_count": 7,
   "metadata": {},
   "outputs": [
    {
     "name": "stdout",
     "output_type": "stream",
     "text": [
      "<Synset id=\"odenet-362313-n\" ili=\"i41411\" partOfSpeech=\"n\"><Definition>Unterbindung von Kontakten zwischen Menschen, z.B. um einer Pandemie zu begegnen.</Definition><SynsetRelation target='odenet-13085-n' relType='hypernym'/><Example>Die Entwicklung der Pandemie machte einen Lockdown notwendig.</Example></Synset>\n",
      "\n"
     ]
    }
   ],
   "source": [
    "# Beispiel einfügen\n",
    "\n",
    "add_example_to_ss('odenet-362313-n','Die Entwicklung der Pandemie machte einen Lockdown notwendig.',\"odenet_oneline.xml\")"
   ]
  },
  {
   "cell_type": "code",
   "execution_count": 13,
   "metadata": {},
   "outputs": [
    {
     "name": "stdout",
     "output_type": "stream",
     "text": [
      "<LexicalEntry id=\"w1636\" confidenceScore=\"1.0\"><Lemma writtenForm=\"Seuche\" partOfSpeech=\"n\"/><Sense id=\"w1636_335-n\" synset=\"odenet-335-n\"/></LexicalEntry>\n",
      "\n"
     ]
    }
   ],
   "source": [
    "# Attribute zum LexEntry hinzufügen, z.B. confidenceScore\n",
    "change_attribute_in_lexentry(\"Seuche\",\"confidenceScore\",\"1.0\",\"odenet_oneline.xml\")"
   ]
  },
  {
   "cell_type": "code",
   "execution_count": null,
   "metadata": {},
   "outputs": [],
   "source": [
    "# Attribute zum Sense hinzufügen, z.B. note=\"PHON:buːt\"\n",
    "add_attribute_to_sense(\"w4007_15099-n\",\"odenet-15099-n\",\"note\",\"PHON:teˈnoːɐ̯\",\"odenet_oneline.xml\")\n",
    "\n"
   ]
  },
  {
   "cell_type": "code",
   "execution_count": 21,
   "metadata": {},
   "outputs": [
    {
     "name": "stdout",
     "output_type": "stream",
     "text": [
      "Ich habe diese Senses dafür: \n",
      "SYNSET: odenet-11177-n\n",
      "('i54970', 'small crude shelter used as a dwelling', [], [('hypernym', 'odenet-1635-n')], ['Hütte', 'Bude', 'Heim', 'Behausung', 'Haus'])\n",
      "SYNSET: odenet-11345-n\n",
      "('i79671', 'a social unit living together', [], [('hyponym', 'odenet-35966-n'), ('hypernym', 'odenet-7995-n')], ['Stamm', 'Geschlecht', 'Mischpoke', 'Familie', 'Sippe', 'Haus', 'Familienbande', 'Geblüt'])\n"
     ]
    },
    {
     "name": "stdin",
     "output_type": "stream",
     "text": [
      "Welcher Sense?  odenet-11177-n\n"
     ]
    },
    {
     "name": "stdout",
     "output_type": "stream",
     "text": [
      "[('odenet-1635-n', ['Bau', 'Gemäuer', 'Bauwerk', 'Gebäude'])]\n",
      "[]\n",
      "[('odenet-25325-n', ['Verödung', 'Sklerotherapie'])]\n",
      "[]\n",
      "[('Haus', {}), ('Bau', {}), ('Verödung', {})]\n"
     ]
    },
    {
     "data": {
      "image/png": "[encoded data removed]",
      "text/plain": [
       "<Figure size 432x288 with 1 Axes>"
      ]
     },
     "metadata": {},
     "output_type": "display_data"
    }
   ],
   "source": [
    "# Hyponyme und Hyperonyme visualisieren\n",
    "OdeNet.visualize(\"Haus\")"
   ]
  },
  {
   "cell_type": "code",
   "execution_count": 7,
   "metadata": {},
   "outputs": [
    {
     "ename": "KeyboardInterrupt",
     "evalue": "",
     "output_type": "error",
     "traceback": [
      "\u001b[1;31m---------------------------------------------------------------------------\u001b[0m",
      "\u001b[1;31mKeyboardInterrupt\u001b[0m                         Traceback (most recent call last)",
      "\u001b[1;32m<ipython-input-7-443479c688ce>\u001b[0m in \u001b[0;36m<module>\u001b[1;34m\u001b[0m\n\u001b[0;32m      2\u001b[0m \u001b[1;31m# Achtung: Das dauert einige Zeit!\u001b[0m\u001b[1;33m\u001b[0m\u001b[1;33m\u001b[0m\u001b[1;33m\u001b[0m\u001b[0m\n\u001b[0;32m      3\u001b[0m \u001b[1;33m\u001b[0m\u001b[0m\n\u001b[1;32m----> 4\u001b[1;33m \u001b[0madd_hypo_to_hyper\u001b[0m\u001b[1;33m(\u001b[0m\u001b[1;34m\"odenet_oneline.xml\"\u001b[0m\u001b[1;33m)\u001b[0m\u001b[1;33m\u001b[0m\u001b[1;33m\u001b[0m\u001b[0m\n\u001b[0m",
      "\u001b[1;32m~\\Documents\\05_Projekte\\WordNet\\OdeNet\\odenet.git\\trunk\\odenet\\odenet_change.py\u001b[0m in \u001b[0;36madd_hypo_to_hyper\u001b[1;34m(wordnetfile)\u001b[0m\n\u001b[0;32m    139\u001b[0m                 \u001b[0mhyp_id\u001b[0m \u001b[1;33m=\u001b[0m \u001b[0mhyp_info\u001b[0m\u001b[1;33m[\u001b[0m\u001b[1;36m0\u001b[0m\u001b[1;33m]\u001b[0m\u001b[1;33m\u001b[0m\u001b[1;33m\u001b[0m\u001b[0m\n\u001b[0;32m    140\u001b[0m \u001b[1;31m#                hypo_rel = \"<SynsetRelation target='\" + ss_id + \"' relType='hyponym'/>\"\u001b[0m\u001b[1;33m\u001b[0m\u001b[1;33m\u001b[0m\u001b[1;33m\u001b[0m\u001b[0m\n\u001b[1;32m--> 141\u001b[1;33m                 \u001b[0madd_rel_to_ss\u001b[0m\u001b[1;33m(\u001b[0m\u001b[0mhyp_id\u001b[0m\u001b[1;33m,\u001b[0m\u001b[1;34m\"hyponym\"\u001b[0m\u001b[1;33m,\u001b[0m\u001b[0mss_id\u001b[0m\u001b[1;33m,\u001b[0m\u001b[0mwordnetfile\u001b[0m\u001b[1;33m)\u001b[0m\u001b[1;33m\u001b[0m\u001b[1;33m\u001b[0m\u001b[0m\n\u001b[0m\u001b[0;32m    142\u001b[0m \u001b[1;33m\u001b[0m\u001b[0m\n\u001b[0;32m    143\u001b[0m \u001b[1;31m# Attribute in Synsets verändern, z.B. ili\u001b[0m\u001b[1;33m\u001b[0m\u001b[1;33m\u001b[0m\u001b[1;33m\u001b[0m\u001b[0m\n",
      "\u001b[1;32m~\\Documents\\05_Projekte\\WordNet\\OdeNet\\odenet.git\\trunk\\odenet\\odenet_change.py\u001b[0m in \u001b[0;36madd_rel_to_ss\u001b[1;34m(synset, relation, target, wordnetfile)\u001b[0m\n\u001b[0;32m    112\u001b[0m                     \u001b[0mline\u001b[0m \u001b[1;33m=\u001b[0m \u001b[0mline\u001b[0m\u001b[1;33m.\u001b[0m\u001b[0mreplace\u001b[0m\u001b[1;33m(\u001b[0m\u001b[1;34m'/>'\u001b[0m\u001b[1;33m,\u001b[0m \u001b[1;34m'>'\u001b[0m \u001b[1;33m+\u001b[0m \u001b[1;34m\"<SynsetRelation target='\"\u001b[0m \u001b[1;33m+\u001b[0m \u001b[0mtarget\u001b[0m \u001b[1;33m+\u001b[0m \u001b[1;34m\"' relType='\"\u001b[0m \u001b[1;33m+\u001b[0m \u001b[0mrelation\u001b[0m \u001b[1;33m+\u001b[0m \u001b[1;34m\"'/>\"\u001b[0m \u001b[1;33m+\u001b[0m \u001b[1;34m'</Synset>'\u001b[0m\u001b[1;33m)\u001b[0m\u001b[1;33m\u001b[0m\u001b[1;33m\u001b[0m\u001b[0m\n\u001b[0;32m    113\u001b[0m                 \u001b[0mprint\u001b[0m\u001b[1;33m(\u001b[0m\u001b[0mline\u001b[0m\u001b[1;33m)\u001b[0m\u001b[1;33m\u001b[0m\u001b[1;33m\u001b[0m\u001b[0m\n\u001b[1;32m--> 114\u001b[1;33m             \u001b[0mout_odenet\u001b[0m\u001b[1;33m.\u001b[0m\u001b[0mwrite\u001b[0m\u001b[1;33m(\u001b[0m\u001b[0mline\u001b[0m\u001b[1;33m)\u001b[0m\u001b[1;33m\u001b[0m\u001b[1;33m\u001b[0m\u001b[0m\n\u001b[0m\u001b[0;32m    115\u001b[0m         \u001b[0mout_odenet\u001b[0m\u001b[1;33m.\u001b[0m\u001b[0mclose\u001b[0m\u001b[1;33m(\u001b[0m\u001b[1;33m)\u001b[0m\u001b[1;33m\u001b[0m\u001b[1;33m\u001b[0m\u001b[0m\n\u001b[0;32m    116\u001b[0m \u001b[1;33m\u001b[0m\u001b[0m\n",
      "\u001b[1;31mKeyboardInterrupt\u001b[0m: "
     ]
    }
   ],
   "source": [
    "# Für die gesamte Datei Rückrelationen Hyperonym - Hyponym einfügen\n",
    "# Achtung: Das dauert einige Zeit!\n",
    "\n",
    "#add_hypo_to_hyper(\"odenet_oneline.xml\")\n"
   ]
  },
  {
   "cell_type": "code",
   "execution_count": 8,
   "metadata": {},
   "outputs": [],
   "source": [
    "# In schönerem Format speichern, sodass das eingecheckt werden kann\n",
    "\n",
    "prettyprint_odenet()"
   ]
  },
  {
   "cell_type": "code",
   "execution_count": null,
   "metadata": {},
   "outputs": [],
   "source": []
  }
 ],
 "metadata": {
  "kernelspec": {
   "display_name": "Python 3",
   "language": "python",
   "name": "python3"
  },
  "language_info": {
   "codemirror_mode": {
    "name": "ipython",
    "version": 3
   },
   "file_extension": ".py",
   "mimetype": "text/x-python",
   "name": "python",
   "nbconvert_exporter": "python",
   "pygments_lexer": "ipython3",
   "version": "3.7.6"
  }
 },
 "nbformat": 4,
 "nbformat_minor": 4
}
