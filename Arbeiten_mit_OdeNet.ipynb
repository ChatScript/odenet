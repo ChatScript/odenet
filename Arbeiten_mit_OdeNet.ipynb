{
 "cells": [
  {
   "cell_type": "code",
   "execution_count": 1,
   "metadata": {},
   "outputs": [],
   "source": [
    "from odenet import *"
   ]
  },
  {
   "cell_type": "markdown",
   "metadata": {},
   "source": [
    "Um Änderungen an OdeNet zu machen, erstellt man zunächst eine lokale Kopie, bei der die Einträge jeweils auf einer Zeile stehen."
   ]
  },
  {
   "cell_type": "code",
   "execution_count": 2,
   "metadata": {},
   "outputs": [],
   "source": [
    "format_odenet_oneline()"
   ]
  },
  {
   "cell_type": "code",
   "execution_count": 3,
   "metadata": {
    "scrolled": true
   },
   "outputs": [
    {
     "name": "stdout",
     "output_type": "stream",
     "text": [
      "Osterei n \n",
      "------------------------\n",
      "SENSE: odenet-362439-n\n",
      "ILI: \n",
      "DEFINITION: []\n",
      "DE_DEFINITION: []\n",
      "WORDS: ['Osterei']\n",
      "RELATIONS: \n",
      "------------------------\n",
      "LEMMA: Osterei\n",
      "POS: n\n",
      "SENSE ID: w1202853_362439-n\n"
     ]
    }
   ],
   "source": [
    "OdeNet.word_info(\"Osterei\")"
   ]
  },
  {
   "cell_type": "markdown",
   "metadata": {},
   "source": [
    "Um etwas im englischen PWN nachzuschlagen, muss man den lokalen Pfad angeben."
   ]
  },
  {
   "cell_type": "code",
   "execution_count": 5,
   "metadata": {},
   "outputs": [],
   "source": [
    "OdeNet.check_ili_in_pwn(\"easter eggs\", r\"C:\\Users\\melaniesiegel\\Documents\\05_Projekte\\WordNet\\English_WN\\english-wordnet-2020.xml\")"
   ]
  },
  {
   "cell_type": "code",
   "execution_count": 4,
   "metadata": {},
   "outputs": [
    {
     "name": "stdout",
     "output_type": "stream",
     "text": [
      "ENGLISH WORDS FOR THIS ILI: ['Easter']\n"
     ]
    }
   ],
   "source": [
    "OdeNet.en_words_in_ili(\"i117025\", r\"C:\\Users\\melaniesiegel\\Documents\\05_Projekte\\WordNet\\English_WN\\english-wordnet-2020.xml\")"
   ]
  },
  {
   "cell_type": "code",
   "execution_count": 13,
   "metadata": {},
   "outputs": [],
   "source": [
    "OdeNet.de_words_in_ili(\"i58332\")"
   ]
  },
  {
   "cell_type": "code",
   "execution_count": 6,
   "metadata": {},
   "outputs": [
    {
     "name": "stdout",
     "output_type": "stream",
     "text": [
      "<Synset id=\"odenet-362439-n\" ili=\"\" partOfSpeech=\"n\"><Definition>Ei, das an Ostern bunt gefärbt an die Kinder verschenkt wird.</Definition></Synset>\n",
      "\n"
     ]
    }
   ],
   "source": [
    "# Definitionen einfügen'odenet-35395-a','Etwas, das nicht getan werden kann',r\"C:\\Users\\melaniesiegel\\Documents\\05_Projekte\\WordNet\\OdeNet\\deWNaccess\\odenet_oneline.xml\")\n",
    "add_definition_to_ss('odenet-362439-n','Ei, das an Ostern bunt gefärbt an die Kinder verschenkt wird.',\"odenet_oneline.xml\")"
   ]
  },
  {
   "cell_type": "code",
   "execution_count": 21,
   "metadata": {
    "scrolled": true
   },
   "outputs": [
    {
     "name": "stdout",
     "output_type": "stream",
     "text": [
      "<Synset id=\"odenet-24723-n\" ili=\"i106626\" partOfSpeech=\"n\" ><Definition>Gebühr für eine Person, eine Wohnung oder Eigentum zugunsten des Staates</Definition><SynsetRelation target='odenet-31291-n' relType='hypernym'/><SynsetRelation target='odenet-9595-n' relType='hypernym'/><SynsetRelation target='odenet-28712-n' relType='hyponym'/></Synset>\n",
      "\n"
     ]
    }
   ],
   "source": [
    "# Englische Definitionen löschen\n",
    "delete_english_definition('odenet-24723-n',\"odenet_oneline.xml\")"
   ]
  },
  {
   "cell_type": "code",
   "execution_count": 14,
   "metadata": {
    "scrolled": true
   },
   "outputs": [
    {
     "name": "stdout",
     "output_type": "stream",
     "text": [
      "<Synset id=\"odenet-10289-n\" ili=\"i58332\" partOfSpeech=\"n\"><Definition>Ein Gerät, das zum Steuern eines Schiffes oder Flugzeugs verwendet wird.</Definition></Synset>\n",
      "\n"
     ]
    }
   ],
   "source": [
    "# Attribute (v.a. ili) im Synset verändern\n",
    "\n",
    "change_attribute_in_ss('odenet-10289-n','ili','i58332',\"odenet_oneline.xml\")\n"
   ]
  },
  {
   "cell_type": "code",
   "execution_count": 10,
   "metadata": {},
   "outputs": [
    {
     "name": "stdout",
     "output_type": "stream",
     "text": [
      "<Synset id=\"odenet-651-a\" ili=\"i18846\" partOfSpeech=\"a\" ><Definition>Superlativ zu \"viel\", \"groß\" und \"hoch\"</Definition><SynsetRelation target='odenet-1914-a' relType='antonym'/></Synset>\n",
      "\n",
      "<Synset id=\"odenet-1914-a\" ili=\"i8207\" partOfSpeech=\"a\" dc:description=\"the least possible\"><SynsetRelation target='odenet-651-a' relType='antonym'/></Synset>\n",
      "\n"
     ]
    }
   ],
   "source": [
    "# Antonym-Relation zum Synset hinzufügen\n",
    "\n",
    "add_antonym_rel_to_ss(\"odenet-651-a\",\"odenet-1914-a\",\"odenet_oneline.xml\")"
   ]
  },
  {
   "cell_type": "code",
   "execution_count": 19,
   "metadata": {},
   "outputs": [
    {
     "name": "stdout",
     "output_type": "stream",
     "text": [
      "<Synset id=\"odenet-28712-n\" ili=\"\" partOfSpeech=\"n\"><SynsetRelation target='odenet-5267-n' relType='hypernym'/><SynsetRelation target='odenet-24723-n' relType='hypernym'/></Synset>\n",
      "\n",
      "<Synset id=\"odenet-24723-n\" ili=\"i106626\" partOfSpeech=\"n\" dc:description=\"charge against a citizen's person or property or activity for the support of government\"><SynsetRelation target='odenet-31291-n' relType='hypernym'/><SynsetRelation target='odenet-9595-n' relType='hypernym'/><SynsetRelation target='odenet-28712-n' relType='hyponym'/></Synset>\n",
      "\n"
     ]
    }
   ],
   "source": [
    "# Hyperonym-Relation zum Synset hinzufügen\n",
    "# add_hypernym_rel_to_ss(hyponym, hyperonym, wordnet)\n",
    "\n",
    "add_hypernym_rel_to_ss(\"odenet-28712-n\",\"odenet-24723-n\",\"odenet_oneline.xml\")"
   ]
  },
  {
   "cell_type": "code",
   "execution_count": 7,
   "metadata": {},
   "outputs": [
    {
     "name": "stdout",
     "output_type": "stream",
     "text": [
      "<Synset id=\"odenet-616-n\" ili=\"i117025\" partOfSpeech=\"n\" ><Definition>eine christliche Feier der Auferstehung Christi; wird am Sonntag nach dem ersten Vollmond nach der Frühlings-Tagundnachtgleiche gefeiert.</Definition><SynsetRelation target='odenet-11393-n' relType='hypernym'/><SynsetRelation target='odenet-362438-n' relType='mero_member'/><SynsetRelation target='odenet-362439-n' relType='mero_member'/><Example>Sie feiert Ostern mit der Familie.</Example></Synset>\n",
      "\n",
      "<Synset id=\"odenet-362439-n\" ili=\"\" partOfSpeech=\"n\"><Definition>Ei, das an Ostern bunt gefärbt an die Kinder verschenkt wird.</Definition><SynsetRelation target='odenet-616-n' relType='holo_member'/></Synset>\n",
      "\n"
     ]
    }
   ],
   "source": [
    "# Meronymie-Information zum Synset hinzufügen\n",
    "# Finger ist Meronym von Hand, Hand ist Holonym von Finger\n",
    "# add_mero_member_rel_to_ss(Holonym,Meronym,Wordnet)\n",
    "# z.B. add_mero_member_rel_to_ss(Hand-Synset, Finger-Synset,'odenet_oneline.xml')\n",
    "\n",
    "add_mero_member_rel_to_ss('odenet-616-n','odenet-362439-n','odenet_oneline.xml')"
   ]
  },
  {
   "cell_type": "code",
   "execution_count": 8,
   "metadata": {},
   "outputs": [
    {
     "name": "stdout",
     "output_type": "stream",
     "text": [
      "<Synset id=\"odenet-362439-n\" ili=\"\" partOfSpeech=\"n\"><Definition>Ei, das an Ostern bunt gefärbt an die Kinder verschenkt wird.</Definition><SynsetRelation target='odenet-616-n' relType='holo_member'/><Example>Der Osterhase kommt morgen und bringt bunte Ostereier.</Example></Synset>\n",
      "\n"
     ]
    }
   ],
   "source": [
    "# Beispiel einfügen\n",
    "\n",
    "add_example_to_ss('odenet-362439-n','Der Osterhase kommt morgen und bringt bunte Ostereier.',\"odenet_oneline.xml\")"
   ]
  },
  {
   "cell_type": "code",
   "execution_count": 9,
   "metadata": {},
   "outputs": [
    {
     "name": "stdout",
     "output_type": "stream",
     "text": [
      "<LexicalEntry id=\"w1202852\" confidenceScore=\"1.0\"><Lemma writtenForm=\"Osterhase\" partOfSpeech=\"n\"/> <Sense id=\"w1202851_362438-n\" synset=\"odenet-362438-n\"/></LexicalEntry>\n",
      "\n"
     ]
    }
   ],
   "source": [
    "# Attribute zum LexEntry hinzufügen, z.B. confidenceScore\n",
    "change_attribute_in_lexentry(\"Osterhase\",\"confidenceScore\",\"1.0\",\"odenet_oneline.xml\")"
   ]
  },
  {
   "cell_type": "code",
   "execution_count": null,
   "metadata": {},
   "outputs": [],
   "source": [
    "# Attribute zum Sense hinzufügen, z.B. note=\"PHON:buːt\"\n",
    "add_attribute_to_sense(\"w4007_15099-n\",\"odenet-15099-n\",\"note\",\"PHON:teˈnoːɐ̯\",\"odenet_oneline.xml\")\n",
    "\n"
   ]
  },
  {
   "cell_type": "code",
   "execution_count": 9,
   "metadata": {},
   "outputs": [
    {
     "name": "stdout",
     "output_type": "stream",
     "text": [
      "[('odenet-11393-n', ['Ruhetag', 'Festtag', 'Feiertag'])]\n",
      "[]\n",
      "[('odenet-11924-n', ['vierundzwanzig Stunden', 'Kalendertag', 'Tag', '24 Stunden'])]\n",
      "[('odenet-11078-n', ['Periode', 'Spanne', 'Phase', 'Zeitabschnitt', 'Zeit', 'Zeitdifferenz', 'Zeitdauer', 'Zeitraum', 'Frist', 'Zeitrahmen', '(zeitliches) Intervall', 'Dauer', 'Zeitabstand', 'Zeitspanne', 'Weile', '(zeitlicher) Abstand', 'Zeitintervall', 'Zeitlang'])]\n",
      "[('odenet-22433-n', ['Instanz', 'Rechtsgang', 'Rechtszug']), ('odenet-13850-n', ['Schritt', 'Abschnitt', 'Phase', 'Stufe']), ('odenet-7043-n', ['Abstand', 'Entfernung', 'Distanz'])]\n",
      "[('odenet-34685-n', ['Aufführung', 'Performance', '(künstlerische) Darbietung', 'Happening', '(künstlerische) Aktion'])]\n",
      "[('odenet-26921-n', ['Spektakel', 'Event', 'Hypeevent', 'Großereignis', 'Spektakulum', 'Hype-Event', 'besonderes Ereignis'])]\n",
      "[]\n",
      "[('odenet-4957-n', ['Periode', 'Entwicklungsstadium', 'Abschnitt', 'Punkt', 'Station', 'Entwicklungsphase', 'Entwicklungsstufe', 'Entwicklungsstand', 'Stadium', 'Phase', 'Entwicklungsabschnitt', 'Stufe', 'Entwicklungszustand'])]\n",
      "[('odenet-9057-n', ['Ausschnitt', 'Bereich', 'Stück', 'Abschnitt', 'Fragment', 'Fetzen', 'Teil', 'Bruchstück', 'Stückchen', 'Segment', 'Teilbereich', 'Unvollendetes'])]\n",
      "[]\n",
      "[('odenet-10706-n', ['Besonderheit', 'Kennzeichen', 'Charakteristikum', 'Eigenschaft', 'Funktionalität', 'Funktion', 'Leistungsmerkmal', 'Feature', 'technische Daten', 'Ausstattungsmerkmal'])]\n",
      "[('odenet-2741-n', ['Utensilien', 'Apparatur', 'Ausstattung', 'Rüstzeug', 'Equipment', 'Ausrüstung', 'Gadget', 'Gerätschaft'])]\n",
      "[('odenet-4953-n', ['Apparate', 'Apparaturen', 'Maschinen', 'Maschinerie', 'Maschinenpark'])]\n",
      "[('odenet-11520-n', ['Gerät', 'Anlage', 'Apparatur', 'Maschine', 'Apparat', 'Aggregat', 'Automat']), ('odenet-3970-n', ['Stadtpark', 'Parkanlage', 'Stadtgarten', 'Park', 'Grünanlage'])]\n",
      "[]\n",
      "[('odenet-10595-n', ['Anlage', 'Grünanlage', 'Garten', 'Gartenanlage'])]\n",
      "[('odenet-2212-n', ['Einteilung', 'Anlage', 'Errichtung', 'Betriebsanlage'])]\n",
      "[('odenet-11520-n', ['Gerät', 'Anlage', 'Apparatur', 'Maschine', 'Apparat', 'Aggregat', 'Automat'])]\n",
      "[('Ostern', {}), ('Ruhetag', {}), ('vierundzwanzig Stunden', {}), ('Periode', {}), ('Instanz', {}), ('Aufführung', {}), ('Spektakel', {}), ('Schritt', {}), ('Ausschnitt', {}), ('Abstand', {}), ('Besonderheit', {}), ('Utensilien', {}), ('Apparate', {}), ('Gerät', {}), ('Stadtpark', {}), ('Anlage', {}), ('Einteilung', {})]\n"
     ]
    },
    {
     "data": {
      "image/png": "[encoded data removed]",
      "text/plain": [
       "<Figure size 432x288 with 1 Axes>"
      ]
     },
     "metadata": {},
     "output_type": "display_data"
    }
   ],
   "source": [
    "# Hyponyme und Hyperonyme visualisieren\n",
    "OdeNet.visualize(\"Ostern\")"
   ]
  },
  {
   "cell_type": "code",
   "execution_count": 32,
   "metadata": {},
   "outputs": [],
   "source": [
    "# Für die gesamte Datei Rückrelationen Hyperonym - Hyponym einfügen\n",
    "# Achtung: Das dauert einige Zeit!\n",
    "\n",
    "#add_hypo_to_hyper(\"odenet_oneline.xml\")\n"
   ]
  },
  {
   "cell_type": "code",
   "execution_count": 10,
   "metadata": {},
   "outputs": [],
   "source": [
    "# In schönerem Format speichern, sodass das eingecheckt werden kann\n",
    "\n",
    "prettyprint_odenet()"
   ]
  },
  {
   "cell_type": "code",
   "execution_count": null,
   "metadata": {},
   "outputs": [],
   "source": []
  }
 ],
 "metadata": {
  "kernelspec": {
   "display_name": "Python 3",
   "language": "python",
   "name": "python3"
  },
  "language_info": {
   "codemirror_mode": {
    "name": "ipython",
    "version": 3
   },
   "file_extension": ".py",
   "mimetype": "text/x-python",
   "name": "python",
   "nbconvert_exporter": "python",
   "pygments_lexer": "ipython3",
   "version": "3.7.6"
  }
 },
 "nbformat": 4,
 "nbformat_minor": 4
}
