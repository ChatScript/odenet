{
 "cells": [
  {
   "cell_type": "code",
   "execution_count": 3,
   "metadata": {},
   "outputs": [],
   "source": [
    "from odenet import *"
   ]
  },
  {
   "cell_type": "markdown",
   "metadata": {},
   "source": [
    "Um Änderungen an OdeNet zu machen, erstellt man zunächst eine lokale Kopie, bei der die Einträge jeweils auf einer Zeile stehen."
   ]
  },
  {
   "cell_type": "code",
   "execution_count": null,
   "metadata": {},
   "outputs": [],
   "source": [
    "format_odenet_oneline()"
   ]
  },
  {
   "cell_type": "code",
   "execution_count": 10,
   "metadata": {
    "scrolled": true
   },
   "outputs": [
    {
     "name": "stdout",
     "output_type": "stream",
     "text": [
      "Experte n \n",
      "SENSE: odenet-1651-n  ('i93186', 'an expert who is devoted to one occupation or branch of learning', [], [('hyponym', 'odenet-17115-n'), ('hyponym', 'odenet-2085-n')], ['Spezialist', 'Fachperson', 'Fachidiot', 'Experte', 'Kapazität', 'Profi', 'Fachmann', 'Ass', 'Könner'])\n",
      "\n",
      "SENSE: odenet-2565-n  ('i93186', 'an expert who is devoted to one occupation or branch of learning', [], [], ['Meister', 'Experte', 'Handwerksmeister'])\n",
      "\n",
      "SENSE: odenet-8009-n  ('i88056', 'someone who is dazzlingly skilled in any field', [], [('hyponym', 'odenet-17115-n'), ('hyponym', 'odenet-21009-n'), ('hyponym', 'odenet-9374-n')], ['Meister', 'Experte', 'Profi', 'Fachmann', 'Könner', 'Sachkenner', 'Sachkundiger', 'Kenner der Materie', 'Sachverständiger', 'Fässle', 'Fachkraft', 'Kenner', 'Routinier', 'vom Fach'])\n",
      "\n",
      "SENSE: odenet-9468-n  ('i93186', 'an expert who is devoted to one occupation or branch of learning', [], [('hyponym', 'odenet-14907-n'), ('hyponym', 'odenet-1599-n')], ['Experte', 'Fachmann', 'Sachverständiger', 'Kenner', 'Auskenner'])\n",
      "\n",
      "SENSE: odenet-12606-n  ('i93186', 'an expert who is devoted to one occupation or branch of learning', [], [('hyponym', 'odenet-213-n')], ['Kanone', 'Experte', 'Kapazität', 'Ass', 'Autorität', 'Guru', 'Leuchte', 'Meister aller Klassen', 'Crack', 'Meister seines Fachs', 'Großmeister', 'Supermann', 'Wunderknabe', 'Koryphäe', 'Granate'])\n",
      "\n",
      "HYPERNYMS: []\n",
      "HYPONYMS: [('w8129_1651-n', 'odenet-17115-n', ['Computerfreak', 'IT-Experte', 'IT-Fachkraft', 'Computerprofi', 'IT-Spezialist', 'Computerexperte', 'Computerfachmann', 'IT-Fredel', 'IT-Fachmann', 'Computerass', 'Computerspezialist', 'IT-Profi']), ('w8129_1651-n', 'odenet-2085-n', ['Kardiologe', 'Herzspezialist']), ('w8129_8009-n', 'odenet-17115-n', ['Computerfreak', 'IT-Experte', 'IT-Fachkraft', 'Computerprofi', 'IT-Spezialist', 'Computerexperte', 'Computerfachmann', 'IT-Fredel', 'IT-Fachmann', 'Computerass', 'Computerspezialist', 'IT-Profi']), ('w8129_8009-n', 'odenet-21009-n', ['Sicherheitsfachkraft', 'schwarzer Sheriff', 'SiFa', 'Mitarbeiter eines Security Service', 'Wachmann']), ('w8129_8009-n', 'odenet-9374-n', ['Pflegekraft', 'Pflegeperson', 'Krankenpflegerin', 'Pflegefachkraft', 'Krankenschwester', 'Schwester', 'Pflegerin']), ('w8129_9468-n', 'odenet-14907-n', ['Gewässerforscher', 'Limnologe']), ('w8129_9468-n', 'odenet-1599-n', ['Ernährungswissenschaftler', 'Ernährungsfachmann']), ('w8129_12606-n', 'odenet-213-n', ['Sportler', 'Athlet', 'Sportsmann', 'Sportskanone'])]\n",
      "MERONYMS: []\n",
      "HOLONYMS: []\n",
      "ANTONYMS: []\n",
      "LEMMA: Experte\n",
      "POS: n\n",
      "SENSE ID: w8129_12606-n\n"
     ]
    }
   ],
   "source": [
    "OdeNet.word_info(\"Experte\")"
   ]
  },
  {
   "cell_type": "markdown",
   "metadata": {},
   "source": [
    "Um etwas im englischen PWN nachzuschlagen, muss man zunächst den lokalen Pfad in der Datei odenet_class.py anpassen."
   ]
  },
  {
   "cell_type": "code",
   "execution_count": 11,
   "metadata": {},
   "outputs": [],
   "source": [
    "OdeNet.check_ili_in_pwn(\"word space\")"
   ]
  },
  {
   "cell_type": "code",
   "execution_count": 12,
   "metadata": {},
   "outputs": [
    {
     "name": "stdout",
     "output_type": "stream",
     "text": [
      "<Synset id=\"odenet-48-n\" ili=\"i63715\" partOfSpeech=\"n\" dc:description=\"the property created by the space between two objects or points\"><Definition>Der nicht beschriebene Teil zwischen zwei Wörtern.</Definition><SynsetRelation target='odenet-2640-n' relType='hypernym'/></Synset>\n",
      "\n"
     ]
    }
   ],
   "source": [
    "# Definitionen einfügen'odenet-35395-a','Etwas, das nicht getan werden kann',r\"C:\\Users\\melaniesiegel\\Documents\\05_Projekte\\WordNet\\OdeNet\\deWNaccess\\odenet_oneline.xml\")\n",
    "add_definition_to_ss('odenet-48-n','Der nicht beschriebene Teil zwischen zwei Wörtern.',\"odenet_oneline.xml\")"
   ]
  },
  {
   "cell_type": "code",
   "execution_count": 13,
   "metadata": {
    "scrolled": true
   },
   "outputs": [
    {
     "name": "stdout",
     "output_type": "stream",
     "text": [
      "<Synset id=\"odenet-48-n\" ili=\"i63715\" partOfSpeech=\"n\" ><Definition>Der nicht beschriebene Teil zwischen zwei Wörtern.</Definition><SynsetRelation target='odenet-2640-n' relType='hypernym'/></Synset>\n",
      "\n"
     ]
    }
   ],
   "source": [
    "# Englische Definitionen löschen\n",
    "delete_english_definition('odenet-48-n',\"odenet_oneline.xml\")"
   ]
  },
  {
   "cell_type": "code",
   "execution_count": 14,
   "metadata": {
    "scrolled": true
   },
   "outputs": [
    {
     "name": "stdout",
     "output_type": "stream",
     "text": [
      "<Synset id=\"odenet-48-n\" ili=\"\" partOfSpeech=\"n\" ><Definition>Der nicht beschriebene Teil zwischen zwei Wörtern.</Definition><SynsetRelation target='odenet-2640-n' relType='hypernym'/></Synset>\n",
      "\n"
     ]
    }
   ],
   "source": [
    "# Attribute (v.a. ili) im Synset verändern\n",
    "\n",
    "change_attribute_in_ss('odenet-48-n','ili','',\"odenet_oneline.xml\")\n"
   ]
  },
  {
   "cell_type": "code",
   "execution_count": null,
   "metadata": {},
   "outputs": [],
   "source": [
    "# Antonym-Relation zum Synset hinzufügen\n",
    "\n",
    "add_antonym_rel_to_ss(\"odenet-28716-a\",\"odenet-6080-a\",\"odenet_oneline.xml\")"
   ]
  },
  {
   "cell_type": "code",
   "execution_count": 17,
   "metadata": {},
   "outputs": [
    {
     "name": "stdout",
     "output_type": "stream",
     "text": [
      "<Synset id=\"odenet-7043-n\" ili=\"i63715\" partOfSpeech=\"n\" dc:description=\"the property created by the space between two objects or points\"><SynsetRelation target='odenet-3071-n' relType='hyponym'/><SynsetRelation target='odenet-3218-n' relType='hyponym'/><SynsetRelation target='odenet-7736-v' relType='hyponym'/><SynsetRelation target='odenet-23545-n' relType='hyponym'/><SynsetRelation target='odenet-19102-n' relType='hyponym'/><SynsetRelation target='odenet-13990-n' relType='hyponym'/><SynsetRelation target='odenet-21374-n' relType='hyponym'/><SynsetRelation target='odenet-22972-n' relType='hyponym'/><SynsetRelation target='odenet-18684-n' relType='hyponym'/><SynsetRelation target='odenet-13969-n' relType='hyponym'/><SynsetRelation target='odenet-11078-n' relType='hyponym'/><SynsetRelation target='odenet-23546-n' relType='hyponym'/><SynsetRelation target='odenet-10706-n' relType='hypernym'/></Synset>\n",
      "\n",
      "<Synset id=\"odenet-10706-n\" ili=\"i67614\" partOfSpeech=\"n\" ><Definition>Gesamtheit der Merkmale und Aspekte von etwas.</Definition><SynsetRelation target='odenet-2741-n' relType='hypernym'/><SynsetRelation target='odenet-7043-n' relType='hyponym'/><Example>Die technische Ausstattung des Geräts ist dokumentiert.</Example></Synset>\n",
      "\n"
     ]
    }
   ],
   "source": [
    "# Hyperonym-Relation zum Synset hinzufügen\n",
    "# add_hypernym_rel_to_ss(hyponym, hyperonym, wordnet)\n",
    "\n",
    "add_hypernym_rel_to_ss(\"odenet-7043-n\",\"odenet-10706-n\",\"odenet_oneline.xml\")"
   ]
  },
  {
   "cell_type": "code",
   "execution_count": 15,
   "metadata": {},
   "outputs": [
    {
     "name": "stdout",
     "output_type": "stream",
     "text": [
      "<Synset id=\"odenet-48-n\" ili=\"\" partOfSpeech=\"n\" ><Definition>Der nicht beschriebene Teil zwischen zwei Wörtern.</Definition><SynsetRelation target='odenet-2640-n' relType='hypernym'/><Example>Der Wortzwischenraum ist bei Blocksatz variabel.</Example></Synset>\n",
      "\n"
     ]
    }
   ],
   "source": [
    "# Beispiel einfügen\n",
    "\n",
    "add_example_to_ss('odenet-48-n','Der Wortzwischenraum ist bei Blocksatz variabel.',\"odenet_oneline.xml\")"
   ]
  },
  {
   "cell_type": "code",
   "execution_count": null,
   "metadata": {},
   "outputs": [],
   "source": [
    "# Attribute zum LexEntry hinzufügen, z.B. confidenceScore\n",
    "change_attribute_in_lexentry(\"sparen\",\"confidenceScore\",\"1.0\",\"odenet_oneline.xml\")"
   ]
  },
  {
   "cell_type": "code",
   "execution_count": null,
   "metadata": {},
   "outputs": [],
   "source": [
    "# Attribute zum Sense hinzufügen, z.B. note=\"PHON:buːt\"\n",
    "add_attribute_to_sense(\"w4007_15099-n\",\"odenet-15099-n\",\"note\",\"PHON:teˈnoːɐ̯\",\"odenet_oneline.xml\")\n",
    "\n"
   ]
  },
  {
   "cell_type": "code",
   "execution_count": null,
   "metadata": {},
   "outputs": [],
   "source": [
    "# Hyponyme und Hyperonyme visualisieren\n",
    "OdeNet.visualize(\"Schirm\")"
   ]
  },
  {
   "cell_type": "code",
   "execution_count": null,
   "metadata": {},
   "outputs": [],
   "source": [
    "# Für die gesamte Datei Rückrelationen Hyperonym - Hyponym einfügen\n",
    "# Achtung: Das dauert einige Zeit!\n",
    "\n",
    "add_hypo_to_hyper(\"odenet_oneline.xml\")\n"
   ]
  },
  {
   "cell_type": "code",
   "execution_count": 18,
   "metadata": {},
   "outputs": [],
   "source": [
    "# In schönerem Format speichern, sodass das eingecheckt werden kann\n",
    "\n",
    "prettyprint_odenet()"
   ]
  },
  {
   "cell_type": "code",
   "execution_count": null,
   "metadata": {},
   "outputs": [],
   "source": []
  }
 ],
 "metadata": {
  "kernelspec": {
   "display_name": "Python 3",
   "language": "python",
   "name": "python3"
  },
  "language_info": {
   "codemirror_mode": {
    "name": "ipython",
    "version": 3
   },
   "file_extension": ".py",
   "mimetype": "text/x-python",
   "name": "python",
   "nbconvert_exporter": "python",
   "pygments_lexer": "ipython3",
   "version": "3.7.6"
  }
 },
 "nbformat": 4,
 "nbformat_minor": 4
}
