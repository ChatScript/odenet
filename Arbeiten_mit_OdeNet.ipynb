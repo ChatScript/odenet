{
 "cells": [
  {
   "cell_type": "code",
   "execution_count": 1,
   "metadata": {},
   "outputs": [],
   "source": [
    "from odenet import *"
   ]
  },
  {
   "cell_type": "markdown",
   "metadata": {},
   "source": [
    "Um Änderungen an OdeNet zu machen, erstellt man zunächst eine lokale Kopie, bei der die Einträge jeweils auf einer Zeile stehen."
   ]
  },
  {
   "cell_type": "code",
   "execution_count": 2,
   "metadata": {},
   "outputs": [],
   "source": [
    "format_odenet_oneline()"
   ]
  },
  {
   "cell_type": "code",
   "execution_count": 3,
   "metadata": {
    "scrolled": true
   },
   "outputs": [
    {
     "name": "stdout",
     "output_type": "stream",
     "text": [
      "immer a \n",
      "SENSE: odenet-6115-a  ('i18253', 'at all times; all the time and on every occasion', [], [], ['ständig', 'stetig', 'immerwährend', 'persistent', 'konstant', 'kontinuierlich', 'immer', 'perpetuierlich', 'alleweil', 'allweil', 'immer nur', 'stets und ständig', 'fortwährend', 'in Zeit und Ewigkeit', 'stets', 'immerdar', 'allzeit', 'perpetuell'])\n",
      "\n",
      "SENSE: odenet-28716-a  ('i18253', 'at all times; all the time and on every occasion', [], [], ['immer', 'jedes Mal', 'von Mal zu Mal'])\n",
      "\n",
      "HYPERNYMS: []\n",
      "HYPONYMS: []\n",
      "MERONYMS: []\n",
      "HOLONYMS: []\n",
      "ANTONYMS: []\n",
      "LEMMA: immer\n",
      "POS: a\n",
      "SENSE ID: w26121_28716-a\n",
      "LEMMA: immer\n",
      "POS: n\n",
      "SENSE ID: w109586_32550-n\n"
     ]
    }
   ],
   "source": [
    "OdeNet.word_info(\"immer\")"
   ]
  },
  {
   "cell_type": "markdown",
   "metadata": {},
   "source": [
    "Um etwas im englischen PWN nachzuschlagen, muss man zunächst den lokalen Pfad in der Datei odenet_class.py anpassen."
   ]
  },
  {
   "cell_type": "code",
   "execution_count": 23,
   "metadata": {},
   "outputs": [
    {
     "name": "stdout",
     "output_type": "stream",
     "text": [
      "['avoid']\n",
      "i25721\n",
      "stay clear from; keep away from; keep out of the way of someone or something\n",
      "['debar', 'avoid', 'deflect', 'ward off', 'avert', 'obviate', 'forefend', 'forfend', 'fend off', 'head off', 'stave off']\n",
      "i33990\n",
      "prevent the occurrence of; prevent from happening; to protect from or to keep away anything undesirable; to ward off\n",
      "['avoid']\n",
      "i34037\n",
      "refrain from doing something\n",
      "['avoid', 'keep off']\n",
      "i27567\n",
      "refrain from certain foods or beverages\n",
      "['void', 'nullify', 'invalidate', 'avoid', 'annul', 'quash']\n",
      "i34110\n",
      "declare invalid\n"
     ]
    }
   ],
   "source": [
    "OdeNet.check_ili_in_pwn(\"avoid\")"
   ]
  },
  {
   "cell_type": "code",
   "execution_count": 26,
   "metadata": {},
   "outputs": [
    {
     "name": "stdout",
     "output_type": "stream",
     "text": [
      "<Synset id=\"odenet-27012-v\" ili=\"i59258\" partOfSpeech=\"v\" dc:description=\"an extra component of a machine or other apparatus\"><Definition>Keine Schulden machen.</Definition><SynsetRelation target='odenet-13853-n' relType='hypernym'/></Synset>\n",
      "\n"
     ]
    }
   ],
   "source": [
    "# Definitionen einfügen'odenet-35395-a','Etwas, das nicht getan werden kann',r\"C:\\Users\\melaniesiegel\\Documents\\05_Projekte\\WordNet\\OdeNet\\deWNaccess\\odenet_oneline.xml\")\n",
    "add_definition_to_ss('odenet-27012-v','Keine Schulden machen.',\"odenet_oneline.xml\")"
   ]
  },
  {
   "cell_type": "code",
   "execution_count": 27,
   "metadata": {
    "scrolled": true
   },
   "outputs": [
    {
     "name": "stdout",
     "output_type": "stream",
     "text": [
      "<Synset id=\"odenet-27012-v\" ili=\"i59258\" partOfSpeech=\"v\" ><Definition>Keine Schulden machen.</Definition><SynsetRelation target='odenet-13853-n' relType='hypernym'/></Synset>\n",
      "\n"
     ]
    }
   ],
   "source": [
    "# Englische Definitionen löschen\n",
    "delete_english_definition('odenet-27012-v',\"odenet_oneline.xml\")"
   ]
  },
  {
   "cell_type": "code",
   "execution_count": 28,
   "metadata": {
    "scrolled": true
   },
   "outputs": [
    {
     "name": "stdout",
     "output_type": "stream",
     "text": [
      "<Synset id=\"odenet-27012-v\" ili=\"\" partOfSpeech=\"v\" ><Definition>Keine Schulden machen.</Definition><SynsetRelation target='odenet-13853-n' relType='hypernym'/></Synset>\n",
      "\n"
     ]
    }
   ],
   "source": [
    "# Attribute (v.a. ili) im Synset verändern\n",
    "\n",
    "change_attribute_in_ss('odenet-27012-v','ili','',\"odenet_oneline.xml\")\n"
   ]
  },
  {
   "cell_type": "code",
   "execution_count": 3,
   "metadata": {},
   "outputs": [
    {
     "name": "stdout",
     "output_type": "stream",
     "text": [
      "<Synset id=\"odenet-28716-a\" ili=\"i18253\" partOfSpeech=\"a\" dc:description=\"at all times; all the time and on every occasion\"><SynsetRelation target='odenet-6080-a' relType='antonym'/></Synset>\n",
      "\n",
      "<Synset id=\"odenet-6080-a\" ili=\"i18262\" partOfSpeech=\"a\" dc:description=\"not ever; at no time in the past or future\"><SynsetRelation target='odenet-28716-a' relType='antonym'/></Synset>\n",
      "\n"
     ]
    }
   ],
   "source": [
    "# Antonym-Relation zum Synset hinzufügen\n",
    "\n",
    "add_antonym_rel_to_ss(\"odenet-28716-a\",\"odenet-6080-a\",\"odenet_oneline.xml\")"
   ]
  },
  {
   "cell_type": "code",
   "execution_count": 4,
   "metadata": {},
   "outputs": [
    {
     "name": "stdout",
     "output_type": "stream",
     "text": [
      "<Synset id=\"odenet-11177-n\" ili=\"i54970\" partOfSpeech=\"n\" dc:description=\"small crude shelter used as a dwelling\"><SynsetRelation target='odenet-1635-n' relType='hypernym'/></Synset>\n",
      "\n",
      "<Synset id=\"odenet-1635-n\" ili=\"i113537\" partOfSpeech=\"n\" dc:description=\"an irrecoverable state of devastation and destruction\"><SynsetRelation target='odenet-25325-n' relType='hypernym'/><SynsetRelation target='odenet-28661-n' relType='hyponym'/><SynsetRelation target='odenet-11145-n' relType='hyponym'/><SynsetRelation target='odenet-14061-n' relType='hyponym'/><SynsetRelation target='odenet-5908-n' relType='hyponym'/><SynsetRelation target='odenet-21802-n' relType='hyponym'/><SynsetRelation target='odenet-11177-n' relType='hyponym'/></Synset>\n",
      "\n"
     ]
    }
   ],
   "source": [
    "# Hyperonym-Relation zum Synset hinzufügen\n",
    "\n",
    "add_hypernym_rel_to_ss(\"odenet-11177-n\",\"odenet-1635-n\",\"odenet_oneline.xml\")"
   ]
  },
  {
   "cell_type": "code",
   "execution_count": 29,
   "metadata": {},
   "outputs": [
    {
     "name": "stdout",
     "output_type": "stream",
     "text": [
      "<Synset id=\"odenet-27012-v\" ili=\"\" partOfSpeech=\"v\" ><Definition>Keine Schulden machen.</Definition><SynsetRelation target='odenet-13853-n' relType='hypernym'/><Example>Die Regierung bemüht sich zu sparen.</Example></Synset>\n",
      "\n"
     ]
    }
   ],
   "source": [
    "# Beispiel einfügen\n",
    "\n",
    "add_example_to_ss('odenet-27012-v','Die Regierung bemüht sich zu sparen.',\"odenet_oneline.xml\")"
   ]
  },
  {
   "cell_type": "code",
   "execution_count": 30,
   "metadata": {},
   "outputs": [
    {
     "name": "stdout",
     "output_type": "stream",
     "text": [
      "<LexicalEntry id=\"w2953\" dc:type=\"Basiswortschatz\" confidenceScore=\"1.0\"><Lemma writtenForm=\"sparen\" partOfSpeech=\"v\"/><Sense id=\"w2953_586-v\" synset=\"odenet-586-v\"/><Sense id=\"w2953_1955-v\" synset=\"odenet-1955-v\"/><Sense id=\"w2953_14046-v\" synset=\"odenet-14046-v\"/><Sense id=\"w2953_27012-v\" synset=\"odenet-27012-v\"/></LexicalEntry>\n",
      "\n"
     ]
    }
   ],
   "source": [
    "# Attribute zum LexEntry hinzufügen, z.B. confidenceScore\n",
    "change_attribute_in_lexentry(\"sparen\",\"confidenceScore\",\"1.0\",\"odenet_oneline.xml\")"
   ]
  },
  {
   "cell_type": "code",
   "execution_count": null,
   "metadata": {},
   "outputs": [],
   "source": [
    "# Attribute zum Sense hinzufügen, z.B. note=\"PHON:buːt\"\n",
    "add_attribute_to_sense(\"w4007_15099-n\",\"odenet-15099-n\",\"note\",\"PHON:teˈnoːɐ̯\",\"odenet_oneline.xml\")\n",
    "\n"
   ]
  },
  {
   "cell_type": "code",
   "execution_count": null,
   "metadata": {},
   "outputs": [],
   "source": [
    "# Hyponyme und Hyperonyme visualisieren\n",
    "OdeNet.visualize(\"Schirm\")"
   ]
  },
  {
   "cell_type": "code",
   "execution_count": 5,
   "metadata": {},
   "outputs": [],
   "source": [
    "# In schönerem Format speichern, sodass das eingecheckt werden kann\n",
    "\n",
    "prettyprint_odenet()"
   ]
  },
  {
   "cell_type": "code",
   "execution_count": null,
   "metadata": {},
   "outputs": [],
   "source": []
  }
 ],
 "metadata": {
  "kernelspec": {
   "display_name": "Python 3",
   "language": "python",
   "name": "python3"
  },
  "language_info": {
   "codemirror_mode": {
    "name": "ipython",
    "version": 3
   },
   "file_extension": ".py",
   "mimetype": "text/x-python",
   "name": "python",
   "nbconvert_exporter": "python",
   "pygments_lexer": "ipython3",
   "version": "3.7.6"
  }
 },
 "nbformat": 4,
 "nbformat_minor": 4
}
