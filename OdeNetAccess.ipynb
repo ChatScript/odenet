{
 "cells": [
  {
   "cell_type": "markdown",
   "metadata": {},
   "source": [
    "Zunächst müssen wir das OdeNet-Modul importieren"
   ]
  },
  {
   "cell_type": "code",
   "execution_count": 1,
   "metadata": {},
   "outputs": [],
   "source": [
    "from odenet import *\n"
   ]
  },
  {
   "cell_type": "markdown",
   "metadata": {},
   "source": [
    "Mit OdeNet.word_info() greift man auf Lexikon-Einträge zu, bekommt die Lexikon-ID für ein Wort, den Lemma-Wert, POS und die IDs der Synsets, in denen das Wort enthalten ist."
   ]
  },
  {
   "cell_type": "code",
   "execution_count": 13,
   "metadata": {},
   "outputs": [
    {
     "name": "stdout",
     "output_type": "stream",
     "text": [
      "Werk n \n",
      "SENSE: odenet-8695-n  ('i61245', 'a product produced or accomplished through the effort or activity or agency of a person or thing', [], [('hyponym', 'odenet-16778-n'), ('hyponym', 'odenet-12034-n'), ('hyponym', 'odenet-15899-n'), ('hyponym', 'odenet-16052-n'), ('hyponym', 'odenet-168-n'), ('hyponym', 'odenet-19502-n'), ('hyponym', 'odenet-30673-n'), ('hyponym', 'odenet-31887-n'), ('hyponym', 'odenet-31971-n'), ('hyponym', 'odenet-3359-n'), ('hyponym', 'odenet-35074-n'), ('hyponym', 'odenet-8609-n'), ('hypernym', 'odenet-11520-n')], ['Betrieb', 'Fertigungsanlage', 'Werk', 'Fabrik'])\n",
      "\n",
      "SENSE: odenet-11774-n  ('i70169', 'a brief treatise on a subject of interest; published in the form of a booklet', [], [('hypernym', 'odenet-31696-n'), ('hyponym', 'odenet-13113-n'), ('hyponym', 'odenet-7008-n')], ['Arbeit', 'Werk', 'Ausarbeitung', 'Traktat', 'Abhandlung', 'akademische Arbeit', 'wissenschaftliche Arbeit'])\n",
      "\n",
      "SENSE: odenet-12463-n  ('i56156', [], 'Ergebnis menschlicher Arbeit, Dienstleistung', [('holo_part', 'odenet-8531-n'), ('holo_part', 'odenet-30078-n')], ['Artikel', 'Fabrikat', 'Erzeugnis', 'Produkt', 'Werk', 'Gebilde', 'Ware', 'Manufakt', 'Gut', 'Handelsgut', 'Arbeit', 'Machwerk'])\n",
      "\n",
      "SENSE: odenet-15512-n  ('i35572', [], [], [('hypernym', 'odenet-5502-n'), ('hyponym', 'odenet-26803-v')], ['Artefakt', 'Werk', 'Opus', 'Arbeitsergebnis', 'Handlungsprodukt'])\n",
      "\n",
      "SENSE: odenet-28819-n  ('i61245', 'a product produced or accomplished through the effort or activity or agency of a person or thing', [], [('hyponym', 'odenet-16778-n')], ['Werk', 'Schaffen', 'Gesamtwerk', 'Werke', 'Œuvre'])\n",
      "\n",
      "HYPERNYMS: [('w35277_8695-n', 'odenet-11520-n', ['Gerät', 'Anlage', 'Apparatur', 'Maschine', 'Apparat', 'Aggregat', 'Automat']), ('w35277_11774-n', 'odenet-31696-n', ['Monographie', 'Monografie']), ('w35277_15512-n', 'odenet-5502-n', ['Handlung', 'Operation', 'Aktion', 'Tat'])]\n",
      "HYPONYMS: [('w35277_8695-n', 'odenet-16778-n', ['Rohling', 'Leer-DVD', 'Leer-CD']), ('w35277_8695-n', 'odenet-12034-n', ['Meisterwerk', 'Opus magnum', 'Opus', 'Kunstwerk', 'großes Werk']), ('w35277_8695-n', 'odenet-15899-n', ['Gerberei', 'Lederfabrik']), ('w35277_8695-n', 'odenet-16052-n', ['Ziegelfabrik', 'Ziegelei', 'Ziegelwerk']), ('w35277_8695-n', 'odenet-168-n', ['manuelle Arbeit', 'Handarbeit']), ('w35277_8695-n', 'odenet-19502-n', ['Nachfassen', 'Follow-up', 'Folgeaktivität']), ('w35277_8695-n', 'odenet-30673-n', ['Werkunterricht', 'Werkerziehung', 'Werken']), ('w35277_8695-n', 'odenet-31887-n', ['Traumfabrik', 'Hollywood']), ('w35277_8695-n', 'odenet-31971-n', ['Gebälk', 'Balkenwerk', 'Balkenverband']), ('w35277_8695-n', 'odenet-3359-n', ['Produktionsfabrik', 'Produktionsanlage']), ('w35277_8695-n', 'odenet-35074-n', ['Think-Tank', 'Ideenschmiede', 'Ideenfabrik', 'Denkfabrik', 'Thinktank']), ('w35277_8695-n', 'odenet-8609-n', ['Meisterstück', 'Meisterwerk']), ('w35277_11774-n', 'odenet-13113-n', ['Examen', 'Zula', 'Wissenschaftliche Hausarbeit', 'Staatsarbeit', 'Staatsexamensarbeit', 'Examensarbeit', 'Zulassungsarbeit', 'Qualifizierungsarbeit']), ('w35277_11774-n', 'odenet-7008-n', ['Seminararbeit', 'Hausarbeit', 'Semesterarbeit', 'Studienarbeit']), ('w35277_15512-n', 'odenet-26803-v', ['einebnen', 'dem Erdboden gleichmachen', 'völlig zerstören']), ('w35277_28819-n', 'odenet-16778-n', ['Rohling', 'Leer-DVD', 'Leer-CD'])]\n",
      "MERONYMS: []\n",
      "HOLONYMS: [('w35277_12463-n', 'odenet-8531-n', ['Auslass', 'Auslauf']), ('w35277_12463-n', 'odenet-30078-n', ['Ökologie', 'Bioökologie'])]\n",
      "ANTONYMS: []\n",
      "LEMMA: Werk\n",
      "POS: n\n",
      "SENSE ID: w35277_28819-n\n",
      "LEMMA: Werk\n",
      "POS: n\n",
      "SENSE ID: w117549_35252-n\n"
     ]
    }
   ],
   "source": [
    "OdeNet.word_info(\"Werk\")"
   ]
  },
  {
   "cell_type": "markdown",
   "metadata": {},
   "source": [
    "Hier bekommt man die Lexikon-IDs für eine Liste von Wörtern."
   ]
  },
  {
   "cell_type": "code",
   "execution_count": 3,
   "metadata": {},
   "outputs": [
    {
     "name": "stdout",
     "output_type": "stream",
     "text": [
      "Frühling: w14145\n",
      "Sommer: w44811\n",
      "Herbst: w1202374\n",
      "Winter: w25612\n"
     ]
    }
   ],
   "source": [
    "wordlist = ['Frühling','Sommer','Herbst','Winter']\n",
    "for w in wordlist:\n",
    "    print(w + ': ' + OdeNet.word_id(w))"
   ]
  },
  {
   "cell_type": "markdown",
   "metadata": {},
   "source": [
    "Mit check_word_id bekommt man für eine Lexikon-ID Lemma, POS, Synsets und Relationen"
   ]
  },
  {
   "cell_type": "code",
   "execution_count": 4,
   "metadata": {},
   "outputs": [
    {
     "name": "stdout",
     "output_type": "stream",
     "text": [
      "LEMMA: Frühling\n",
      "POS: n\n",
      "SENSE ID: w14145_3067-n\n"
     ]
    }
   ],
   "source": [
    "check_word_id('w14145')"
   ]
  },
  {
   "cell_type": "markdown",
   "metadata": {},
   "source": [
    "Mit words_in_synset bekommt man die Wörter, die in einem Synset sind."
   ]
  },
  {
   "cell_type": "code",
   "execution_count": 5,
   "metadata": {},
   "outputs": [
    {
     "data": {
      "text/plain": [
       "['Alter',\n",
       " 'fortgeschrittenes Lebensalter',\n",
       " 'Rentenalter',\n",
       " 'Lebensabend',\n",
       " 'Herbst des Lebens']"
      ]
     },
     "execution_count": 5,
     "metadata": {},
     "output_type": "execute_result"
    }
   ],
   "source": [
    "words_in_synset('odenet-15920-n')"
   ]
  },
  {
   "cell_type": "markdown",
   "metadata": {},
   "source": [
    "Mit check_synset bekommt man alle Informationen zu einem Synset."
   ]
  },
  {
   "cell_type": "code",
   "execution_count": 12,
   "metadata": {},
   "outputs": [
    {
     "data": {
      "text/plain": [
       "('',\n",
       " [],\n",
       " [],\n",
       " [('hyponym', 'odenet-25851-n')],\n",
       " ['Lied', 'Chanson', 'Liedermacher-Song'])"
      ]
     },
     "execution_count": 12,
     "metadata": {},
     "output_type": "execute_result"
    }
   ],
   "source": [
    "check_synset(\"odenet-25855-n\")"
   ]
  },
  {
   "cell_type": "code",
   "execution_count": 7,
   "metadata": {},
   "outputs": [
    {
     "data": {
      "text/plain": [
       "[('w9034_13770-v',\n",
       "  'odenet-10390-n',\n",
       "  ['Liegenschaft', 'Grundbesitz', 'Landbesitz']),\n",
       " ('w9034_15292-v', 'odenet-21765-n', ['Schulden', 'Fremdkapital'])]"
      ]
     },
     "execution_count": 7,
     "metadata": {},
     "output_type": "execute_result"
    }
   ],
   "source": [
    "hypernyms_word(\"überlassen\")"
   ]
  },
  {
   "cell_type": "code",
   "execution_count": 8,
   "metadata": {},
   "outputs": [
    {
     "data": {
      "text/plain": [
       "[('w64697_17741-n',\n",
       "  'odenet-14850-n',\n",
       "  ['Lager',\n",
       "   'Kinderlandverschickung',\n",
       "   'Freizeit',\n",
       "   'Ferienlager',\n",
       "   'Ferienfreizeit']),\n",
       " ('w64697_17741-n',\n",
       "  'odenet-17740-n',\n",
       "  ['Auftritt',\n",
       "   'Gig',\n",
       "   'Live Event',\n",
       "   'Live-Act',\n",
       "   'Live-Veranstaltung',\n",
       "   'Liveact',\n",
       "   'Live-Gig',\n",
       "   'Show',\n",
       "   'Live-Auftritt',\n",
       "   'Live-Entertainment']),\n",
       " ('w64697_17741-n',\n",
       "  'odenet-17742-n',\n",
       "  ['Tiershow', 'Tiertheater', 'Tierveranstaltung']),\n",
       " ('w64697_17741-n',\n",
       "  'odenet-214-n',\n",
       "  ['Besprechung', 'Consulting', 'Beratung', 'Konsultation', 'Gespräch']),\n",
       " ('w64697_17741-n', 'odenet-25683-n', ['Matinee', 'Vormittagsveranstaltung']),\n",
       " ('w64697_17741-n',\n",
       "  'odenet-2801-n',\n",
       "  ['Gespräch',\n",
       "   'Austausch',\n",
       "   'Unterhaltung',\n",
       "   'Gedankenaustausch',\n",
       "   'Zwiegespräch',\n",
       "   'Unterredung',\n",
       "   'Diskussion',\n",
       "   'Zwiesprache',\n",
       "   'Konversation',\n",
       "   'Wortwechsel',\n",
       "   'Aussprache',\n",
       "   'Dialog']),\n",
       " ('w64697_17741-n',\n",
       "  'odenet-32187-n',\n",
       "  ['Vorkurs',\n",
       "   'Einführungsveranstaltung',\n",
       "   'Vorbereitungskurs',\n",
       "   'Vorkursus',\n",
       "   'Propädeutikum']),\n",
       " ('w64697_17741-n',\n",
       "  'odenet-33873-n',\n",
       "  ['Großereignis', 'Großveranstaltung', 'Massenveranstaltung', 'Massenevent']),\n",
       " ('w64697_17741-n',\n",
       "  'odenet-3868-n',\n",
       "  ['Premierenfeier',\n",
       "   'Kick-off-Veranstaltung',\n",
       "   'Eröffnungsveranstaltung',\n",
       "   'Kick-off-Event',\n",
       "   'Auftaktveranstaltung']),\n",
       " ('w64697_17741-n',\n",
       "  'odenet-804-n',\n",
       "  ['Abendgesellschaft', 'Abendveranstaltung', 'bunter Abend', 'Soiree']),\n",
       " ('w64697_17741-n',\n",
       "  'odenet-8587-n',\n",
       "  ['Galaveranstaltung',\n",
       "   'Festveranstaltung',\n",
       "   'Festlichkeit',\n",
       "   'Festivität',\n",
       "   'Gala']),\n",
       " ('w64697_17741-n',\n",
       "  'odenet-9680-n',\n",
       "  ['Ball', 'Tanzabend', 'Tanzveranstaltung', 'Tanzfest', 'Tanzerei'])]"
      ]
     },
     "execution_count": 8,
     "metadata": {},
     "output_type": "execute_result"
    }
   ],
   "source": [
    "hyponyms_word(\"Veranstaltung\")"
   ]
  },
  {
   "cell_type": "code",
   "execution_count": 9,
   "metadata": {},
   "outputs": [
    {
     "data": {
      "text/plain": [
       "[('w12715_2720-n',\n",
       "  'odenet-14514-n',\n",
       "  ['Saudi-Arabien', 'Königreich Saudi-Arabien', 'Saudisch-Arabien']),\n",
       " ('w12715_2720-n', 'odenet-14519-n', ['Syrien', 'Arabische Republik Syrien']),\n",
       " ('w12715_2720-n', 'odenet-14516-n', ['Türkei', 'Republik Türkei']),\n",
       " ('w12715_9897-n', 'odenet-9309-n', ['Ferner Osten', 'Fernost'])]"
      ]
     },
     "execution_count": 9,
     "metadata": {},
     "output_type": "execute_result"
    }
   ],
   "source": [
    "meronyms_word(\"Morgenland\")"
   ]
  },
  {
   "cell_type": "code",
   "execution_count": 10,
   "metadata": {
    "scrolled": true
   },
   "outputs": [
    {
     "name": "stdout",
     "output_type": "stream",
     "text": [
      "zeigen v \n",
      "SENSE: odenet-533-v  ('i33216', [], 'Vorschlagen, etwas für jemanden zu tun.', [('hypernym', 'odenet-8644-v')], ['andienen', 'anbieten', 'bieten', 'zeigen'])\n",
      "\n",
      "SENSE: odenet-3065-v  ('i32498', [], 'Jemanden etwas sehen lassen.', [('hypernym', 'odenet-9246-v')], ['zeigen', 'präsentieren', 'darstellen', 'vorzeigen', 'abbilden', 'vorführen', 'demonstrieren', 'vorstellen'])\n",
      "\n",
      "SENSE: odenet-4206-v  ('i32440', [], 'Etwas öffentlich sagen.', [('hyponym', 'odenet-2339-v'), ('hyponym', 'odenet-11159-v'), ('hyponym', 'odenet-1192-v'), ('hyponym', 'odenet-22914-v'), ('hyponym', 'odenet-2770-v')], ['kundtun', 'zeigen', 'offenbaren', 'bekunden'])\n",
      "\n",
      "SENSE: odenet-5328-v  ('i25048', [], 'Die Wahrheit von etwas deutlich machen.', [('hypernym', 'odenet-12792-v')], ['bestätigen', 'zeigen', 'aufzeigen', 'nachweisen', 'belegen', 'Nachweis erbringen', 'Beweis erbringen für', 'beweisen'])\n",
      "\n",
      "SENSE: odenet-9990-v  ('i25049', [], 'Sich als etwas erweisen, offenbaren.', [], ['zeigen', 'niederschlagen', 'manifestieren'])\n",
      "\n",
      "SENSE: odenet-10538-v  ('i30180', [], 'In einem Bild darstellen.', [], ['zeigen', 'repräsentieren', 'wiedergeben', 'bildlich darstellen', 'darstellen', 'abbilden', 'zur Darstellung bringen'])\n",
      "\n",
      "HYPERNYMS: [('w2722_533-v', 'odenet-8644-v', ['übergeben', 'abgeben', 'durchgeben', 'weiterleiten', 'überweisen', 'weitergeben']), ('w2722_3065-v', 'odenet-9246-v', ['ausdrücken', 'sagen', 'formulieren', 'äußern', 'phrasieren', 'verbalisieren']), ('w2722_5328-v', 'odenet-12792-v', ['bestärken', 'bekräftigen', 'beleben'])]\n",
      "HYPONYMS: [('w2722_4206-v', 'odenet-2339-v', ['freilegen', 'freigeben']), ('w2722_4206-v', 'odenet-11159-v', ['anzeigen', 'indizieren', 'als angezeigt erscheinen lassen']), ('w2722_4206-v', 'odenet-1192-v', ['widerspiegeln', 'zurückwerfen', 'repräsentieren', 'spiegeln', 'wiedergeben', 'reflektieren']), ('w2722_4206-v', 'odenet-22914-v', ['enthüllen', 'aufdecken', 'etwas ans Licht bringen', 'etwas zum Vorschein bringen', 'Geheimnis lüften', 'etwas ans Tageslicht bringen', 'Schleier lüften']), ('w2722_4206-v', 'odenet-2770-v', ['auflegen', 'ausgeben', 'ausstellen', 'herausgeben', 'in Umlauf setzen', 'verbreiten', 'in Verkehr bringen', 'in Umlauf bringen', 'emittieren'])]\n",
      "MERONYMS: []\n",
      "HOLONYMS: []\n",
      "ANTONYMS: []\n"
     ]
    }
   ],
   "source": [
    "myword = \"zeigen\"\n",
    "(lemma_id, lemma_value, pos, senses) = check_word_lemma(myword)\n",
    "print (lemma_value + \" \" + pos + \" \")\n",
    "for sense in senses:\n",
    "    print(\"SENSE: \" + str(sense[1]) + \"  \" + str(check_synset(sense[1])) + \"\\n\")\n",
    "print(\"HYPERNYMS: \" + str(hypernyms_word(myword)))\n",
    "print(\"HYPONYMS: \" + str(hyponyms_word(myword)))\n",
    "print(\"MERONYMS: \" + str(meronyms_word(myword)))\n",
    "print(\"HOLONYMS: \" + str(holonyms_word(myword)))\n",
    "print(\"ANTONYMS: \" + str(antonyms_word(myword)))\n"
   ]
  },
  {
   "cell_type": "code",
   "execution_count": null,
   "metadata": {},
   "outputs": [],
   "source": []
  }
 ],
 "metadata": {
  "kernelspec": {
   "display_name": "Python 3",
   "language": "python",
   "name": "python3"
  },
  "language_info": {
   "codemirror_mode": {
    "name": "ipython",
    "version": 3
   },
   "file_extension": ".py",
   "mimetype": "text/x-python",
   "name": "python",
   "nbconvert_exporter": "python",
   "pygments_lexer": "ipython3",
   "version": "3.7.6"
  }
 },
 "nbformat": 4,
 "nbformat_minor": 4
}
