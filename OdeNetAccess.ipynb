{
 "cells": [
  {
   "cell_type": "markdown",
   "metadata": {},
   "source": [
    "Zunächst müssen wir das OdeNet-Modul importieren"
   ]
  },
  {
   "cell_type": "code",
   "execution_count": 1,
   "metadata": {},
   "outputs": [],
   "source": [
    "from odenet import *\n"
   ]
  },
  {
   "cell_type": "markdown",
   "metadata": {},
   "source": [
    "Mit OdeNet.word_info() greift man auf Lexikon-Einträge zu, bekommt die Lexikon-ID für ein Wort, den Lemma-Wert, POS und die IDs der Synsets, in denen das Wort enthalten ist."
   ]
  },
  {
   "cell_type": "code",
   "execution_count": 126,
   "metadata": {},
   "outputs": [
    {
     "name": "stdout",
     "output_type": "stream",
     "text": [
      "Software n \n",
      "SENSE: odenet-12037-n  ('i70976', [], 'Folge von Anweisungen für einen Computer', [('hypernym', 'odenet-1986-n'), ('hypernym', 'odenet-5980-n'), ('hyponym', 'odenet-13222-n'), ('hyponym', 'odenet-13226-n'), ('hyponym', 'odenet-13404-n'), ('hyponym', 'odenet-17297-n'), ('hyponym', 'odenet-29095-n'), ('hyponym', 'odenet-31169-n'), ('hyponym', 'odenet-4265-n')], ['Anwendung', 'Programm', 'Applikation', 'Softwaresystem', 'Computerprogramm', 'Software', 'Softwareanwendung'])\n",
      "\n",
      "HYPERNYMS: [('w47335_12037-n', 'odenet-1986-n', ['Anordnung', 'Vorschrift', 'Anweisung', 'Instruktion']), ('w47335_12037-n', 'odenet-5980-n', ['Verwendung', 'Anwendung', 'Einsatz', 'Applikation'])]\n",
      "HYPONYMS: [('w47335_12037-n', 'odenet-13222-n', ['Trojaner', 'Trojanisches Pferd']), ('w47335_12037-n', 'odenet-13226-n', ['Spionagesoftware', 'Spyware', 'Schnüffelsoftware']), ('w47335_12037-n', 'odenet-13404-n', ['freie und offene Software', 'FLOSS', 'Freie Software', 'Open-Source-Software', 'FOSS']), ('w47335_12037-n', 'odenet-17297-n', ['Bürokommunikationssoftware', 'Office-Software']), ('w47335_12037-n', 'odenet-29095-n', ['Grafikprogramm', 'Grafiksoftware']), ('w47335_12037-n', 'odenet-31169-n', ['Textverarbeitung', 'Textverarbeitungssoftware', 'Textverarbeitungsprogramm', 'Schreibprogramm']), ('w47335_12037-n', 'odenet-4265-n', ['Anwendersoftware', 'Programmsystem', 'Applikation', 'Anwendungsprogramm', 'Anwendungssoftware'])]\n",
      "MERONYMS: []\n",
      "HOLONYMS: []\n",
      "ANTONYMS: []\n",
      "LEMMA: Software\n",
      "POS: n\n",
      "SENSE ID: w47335_12037-n\n"
     ]
    }
   ],
   "source": [
    "OdeNet.word_info(\"Software\")"
   ]
  },
  {
   "cell_type": "markdown",
   "metadata": {},
   "source": [
    "Hier bekommt man die Lexikon-IDs für eine Liste von Wörtern."
   ]
  },
  {
   "cell_type": "code",
   "execution_count": 3,
   "metadata": {},
   "outputs": [
    {
     "name": "stdout",
     "output_type": "stream",
     "text": [
      "Frühling: w14145\n",
      "Sommer: w44811\n",
      "Herbst: w1202374\n",
      "Winter: w25612\n"
     ]
    }
   ],
   "source": [
    "wordlist = ['Frühling','Sommer','Herbst','Winter']\n",
    "for w in wordlist:\n",
    "    print(w + ': ' + OdeNet.word_id(w))"
   ]
  },
  {
   "cell_type": "markdown",
   "metadata": {},
   "source": [
    "Mit check_word_id bekommt man für eine Lexikon-ID Lemma, POS, Synsets und Relationen"
   ]
  },
  {
   "cell_type": "code",
   "execution_count": 4,
   "metadata": {},
   "outputs": [
    {
     "name": "stdout",
     "output_type": "stream",
     "text": [
      "LEMMA: Frühling\n",
      "POS: n\n",
      "SENSE ID: w14145_3067-n\n"
     ]
    }
   ],
   "source": [
    "check_word_id('w14145')"
   ]
  },
  {
   "cell_type": "markdown",
   "metadata": {},
   "source": [
    "Mit words_in_synset bekommt man die Wörter, die in einem Synset sind."
   ]
  },
  {
   "cell_type": "code",
   "execution_count": 2,
   "metadata": {},
   "outputs": [
    {
     "data": {
      "text/plain": [
       "['Web-Suchmaschine', 'Internet-Suchmaschine']"
      ]
     },
     "execution_count": 2,
     "metadata": {},
     "output_type": "execute_result"
    }
   ],
   "source": [
    "words_in_synset('odenet-362363-n')"
   ]
  },
  {
   "cell_type": "markdown",
   "metadata": {},
   "source": [
    "Mit check_synset bekommt man alle Informationen zu einem Synset."
   ]
  },
  {
   "cell_type": "code",
   "execution_count": 128,
   "metadata": {},
   "outputs": [
    {
     "name": "stdout",
     "output_type": "stream",
     "text": [
      "('', [], [], [('hypernym', 'odenet-7912-n')], ['Ressourcenplanung', 'Ressourcen-Management', 'Ressourcenmanagement', 'Kapazitätsplanung'])\n",
      "('i68260', [], 'Ausrichtung auf ein Ziel', [('hyponym', 'odenet-10539-n'), ('hyponym', 'odenet-1765-a'), ('hyponym', 'odenet-34826-n'), ('hyponym', 'odenet-34890-a')], ['Zweck', 'Absicht', 'Plan', 'Ansinnen', 'Vorhaben', 'Intention', 'Behuf'])\n"
     ]
    }
   ],
   "source": [
    "print(check_synset(\"odenet-362366-n\"))\n",
    "print(check_synset(\"odenet-7912-n\"))\n",
    "#print(check_synset(\"odenet-10289-n\"))\n",
    "#print(check_synset(\"odenet-10297-v\"))\n",
    "#print(check_synset(\"odenet-10535-v\"))\n"
   ]
  },
  {
   "cell_type": "code",
   "execution_count": 6,
   "metadata": {},
   "outputs": [
    {
     "data": {
      "text/plain": [
       "[('w20430_4634-n',\n",
       "  'odenet-10049-n',\n",
       "  ['Darstellung',\n",
       "   'Abbildung',\n",
       "   'Illustration',\n",
       "   'Spiegelbild',\n",
       "   'Visualisierung',\n",
       "   'Abbild',\n",
       "   'Wiedergabe'])]"
      ]
     },
     "execution_count": 6,
     "metadata": {},
     "output_type": "execute_result"
    }
   ],
   "source": [
    "hypernyms_word(\"Foto\")"
   ]
  },
  {
   "cell_type": "code",
   "execution_count": 2,
   "metadata": {},
   "outputs": [
    {
     "data": {
      "text/plain": [
       "['odenet-10049-n', 'odenet-26421-n']"
      ]
     },
     "execution_count": 2,
     "metadata": {},
     "output_type": "execute_result"
    }
   ],
   "source": [
    "hypernyms_path(\"odenet-4634-n\",[])"
   ]
  },
  {
   "cell_type": "code",
   "execution_count": 8,
   "metadata": {},
   "outputs": [
    {
     "data": {
      "text/plain": [
       "[('w64697_17741-n',\n",
       "  'odenet-14850-n',\n",
       "  ['Lager',\n",
       "   'Kinderlandverschickung',\n",
       "   'Freizeit',\n",
       "   'Ferienlager',\n",
       "   'Ferienfreizeit']),\n",
       " ('w64697_17741-n',\n",
       "  'odenet-17740-n',\n",
       "  ['Auftritt',\n",
       "   'Gig',\n",
       "   'Live Event',\n",
       "   'Live-Act',\n",
       "   'Live-Veranstaltung',\n",
       "   'Liveact',\n",
       "   'Live-Gig',\n",
       "   'Show',\n",
       "   'Live-Auftritt',\n",
       "   'Live-Entertainment']),\n",
       " ('w64697_17741-n',\n",
       "  'odenet-17742-n',\n",
       "  ['Tiershow', 'Tiertheater', 'Tierveranstaltung']),\n",
       " ('w64697_17741-n',\n",
       "  'odenet-214-n',\n",
       "  ['Besprechung', 'Consulting', 'Beratung', 'Konsultation', 'Gespräch']),\n",
       " ('w64697_17741-n', 'odenet-25683-n', ['Matinee', 'Vormittagsveranstaltung']),\n",
       " ('w64697_17741-n',\n",
       "  'odenet-2801-n',\n",
       "  ['Gespräch',\n",
       "   'Austausch',\n",
       "   'Unterhaltung',\n",
       "   'Gedankenaustausch',\n",
       "   'Zwiegespräch',\n",
       "   'Unterredung',\n",
       "   'Diskussion',\n",
       "   'Zwiesprache',\n",
       "   'Konversation',\n",
       "   'Wortwechsel',\n",
       "   'Aussprache',\n",
       "   'Dialog']),\n",
       " ('w64697_17741-n',\n",
       "  'odenet-32187-n',\n",
       "  ['Vorkurs',\n",
       "   'Einführungsveranstaltung',\n",
       "   'Vorbereitungskurs',\n",
       "   'Vorkursus',\n",
       "   'Propädeutikum']),\n",
       " ('w64697_17741-n',\n",
       "  'odenet-33873-n',\n",
       "  ['Großereignis', 'Großveranstaltung', 'Massenveranstaltung', 'Massenevent']),\n",
       " ('w64697_17741-n',\n",
       "  'odenet-3868-n',\n",
       "  ['Premierenfeier',\n",
       "   'Kick-off-Veranstaltung',\n",
       "   'Eröffnungsveranstaltung',\n",
       "   'Kick-off-Event',\n",
       "   'Auftaktveranstaltung']),\n",
       " ('w64697_17741-n',\n",
       "  'odenet-804-n',\n",
       "  ['Abendgesellschaft', 'Abendveranstaltung', 'bunter Abend', 'Soiree']),\n",
       " ('w64697_17741-n',\n",
       "  'odenet-8587-n',\n",
       "  ['Galaveranstaltung',\n",
       "   'Festveranstaltung',\n",
       "   'Festlichkeit',\n",
       "   'Festivität',\n",
       "   'Gala']),\n",
       " ('w64697_17741-n',\n",
       "  'odenet-9680-n',\n",
       "  ['Ball', 'Tanzabend', 'Tanzveranstaltung', 'Tanzfest', 'Tanzerei'])]"
      ]
     },
     "execution_count": 8,
     "metadata": {},
     "output_type": "execute_result"
    }
   ],
   "source": [
    "hyponyms_word(\"Veranstaltung\")"
   ]
  },
  {
   "cell_type": "code",
   "execution_count": 9,
   "metadata": {},
   "outputs": [
    {
     "data": {
      "text/plain": [
       "[('w12715_2720-n',\n",
       "  'odenet-14514-n',\n",
       "  ['Saudi-Arabien', 'Königreich Saudi-Arabien', 'Saudisch-Arabien']),\n",
       " ('w12715_2720-n', 'odenet-14519-n', ['Syrien', 'Arabische Republik Syrien']),\n",
       " ('w12715_2720-n', 'odenet-14516-n', ['Türkei', 'Republik Türkei']),\n",
       " ('w12715_9897-n', 'odenet-9309-n', ['Ferner Osten', 'Fernost'])]"
      ]
     },
     "execution_count": 9,
     "metadata": {},
     "output_type": "execute_result"
    }
   ],
   "source": [
    "meronyms_word(\"Morgenland\")"
   ]
  },
  {
   "cell_type": "code",
   "execution_count": 2,
   "metadata": {},
   "outputs": [
    {
     "data": {
      "text/plain": [
       "[['Piepmatz', 'Federvieh', 'gefiederter Freund'],\n",
       " ['Flugzeug', 'Flieger', 'Kiste', 'Maschine', 'Aeroplan'],\n",
       " ['Type',\n",
       "  'Sonderling',\n",
       "  'Kauz',\n",
       "  'seltsamer Heiliger',\n",
       "  'Unikum',\n",
       "  'komischer Kauz',\n",
       "  'Wunderling',\n",
       "  'seltsamer Kauz',\n",
       "  'schrille Schraube',\n",
       "  'seltsamer Patron',\n",
       "  'skurriler Typ',\n",
       "  'verrückte Person',\n",
       "  'schräger Vogel',\n",
       "  'bunter Vogel',\n",
       "  '(ausgefallener, besonderer) Mensch',\n",
       "  'Urvieh',\n",
       "  'komischer Vogel',\n",
       "  'schräger Fürst',\n",
       "  'sonderbarer Zeitgenosse',\n",
       "  'irrer Typ',\n",
       "  'Original',\n",
       "  'schrille Type',\n",
       "  'verrücktes Huhn',\n",
       "  'schrille Person',\n",
       "  'Mensch, wie man ihn nicht alle Tage trifft',\n",
       "  'bizarre Person',\n",
       "  'merkwürdiger Zeitgenosse',\n",
       "  'Freak',\n",
       "  'ungewöhnlicher Mensch',\n",
       "  'seltsame Type',\n",
       "  'uriger Typ',\n",
       "  'komischer Heiliger']]"
      ]
     },
     "execution_count": 2,
     "metadata": {},
     "output_type": "execute_result"
    }
   ],
   "source": [
    "synonyms_word(\"Vogel\")"
   ]
  },
  {
   "cell_type": "code",
   "execution_count": 10,
   "metadata": {
    "scrolled": true
   },
   "outputs": [
    {
     "name": "stdout",
     "output_type": "stream",
     "text": [
      "zeigen v \n",
      "SENSE: odenet-533-v  ('i33216', [], 'Vorschlagen, etwas für jemanden zu tun.', [('hypernym', 'odenet-8644-v')], ['andienen', 'anbieten', 'bieten', 'zeigen'])\n",
      "\n",
      "SENSE: odenet-3065-v  ('i32498', [], 'Jemanden etwas sehen lassen.', [('hypernym', 'odenet-9246-v')], ['zeigen', 'präsentieren', 'darstellen', 'vorzeigen', 'abbilden', 'vorführen', 'demonstrieren', 'vorstellen'])\n",
      "\n",
      "SENSE: odenet-4206-v  ('i32440', [], 'Etwas öffentlich sagen.', [('hyponym', 'odenet-2339-v'), ('hyponym', 'odenet-11159-v'), ('hyponym', 'odenet-1192-v'), ('hyponym', 'odenet-22914-v'), ('hyponym', 'odenet-2770-v')], ['kundtun', 'zeigen', 'offenbaren', 'bekunden'])\n",
      "\n",
      "SENSE: odenet-5328-v  ('i25048', [], 'Die Wahrheit von etwas deutlich machen.', [('hypernym', 'odenet-12792-v')], ['bestätigen', 'zeigen', 'aufzeigen', 'nachweisen', 'belegen', 'Nachweis erbringen', 'Beweis erbringen für', 'beweisen'])\n",
      "\n",
      "SENSE: odenet-9990-v  ('i25049', [], 'Sich als etwas erweisen, offenbaren.', [], ['zeigen', 'niederschlagen', 'manifestieren'])\n",
      "\n",
      "SENSE: odenet-10538-v  ('i30180', [], 'In einem Bild darstellen.', [], ['zeigen', 'repräsentieren', 'wiedergeben', 'bildlich darstellen', 'darstellen', 'abbilden', 'zur Darstellung bringen'])\n",
      "\n",
      "HYPERNYMS: [('w2722_533-v', 'odenet-8644-v', ['übergeben', 'abgeben', 'durchgeben', 'weiterleiten', 'überweisen', 'weitergeben']), ('w2722_3065-v', 'odenet-9246-v', ['ausdrücken', 'sagen', 'formulieren', 'äußern', 'phrasieren', 'verbalisieren']), ('w2722_5328-v', 'odenet-12792-v', ['bestärken', 'bekräftigen', 'beleben'])]\n",
      "HYPONYMS: [('w2722_4206-v', 'odenet-2339-v', ['freilegen', 'freigeben']), ('w2722_4206-v', 'odenet-11159-v', ['anzeigen', 'indizieren', 'als angezeigt erscheinen lassen']), ('w2722_4206-v', 'odenet-1192-v', ['widerspiegeln', 'zurückwerfen', 'repräsentieren', 'spiegeln', 'wiedergeben', 'reflektieren']), ('w2722_4206-v', 'odenet-22914-v', ['enthüllen', 'aufdecken', 'etwas ans Licht bringen', 'etwas zum Vorschein bringen', 'Geheimnis lüften', 'etwas ans Tageslicht bringen', 'Schleier lüften']), ('w2722_4206-v', 'odenet-2770-v', ['auflegen', 'ausgeben', 'ausstellen', 'herausgeben', 'in Umlauf setzen', 'verbreiten', 'in Verkehr bringen', 'in Umlauf bringen', 'emittieren'])]\n",
      "MERONYMS: []\n",
      "HOLONYMS: []\n",
      "ANTONYMS: []\n"
     ]
    }
   ],
   "source": [
    "myword = \"zeigen\"\n",
    "(lemma_id, lemma_value, pos, senses) = check_word_lemma(myword)\n",
    "print (lemma_value + \" \" + pos + \" \")\n",
    "for sense in senses:\n",
    "    print(\"SENSE: \" + str(sense[1]) + \"  \" + str(check_synset(sense[1])) + \"\\n\")\n",
    "print(\"HYPERNYMS: \" + str(hypernyms_word(myword)))\n",
    "print(\"HYPONYMS: \" + str(hyponyms_word(myword)))\n",
    "print(\"MERONYMS: \" + str(meronyms_word(myword)))\n",
    "print(\"HOLONYMS: \" + str(holonyms_word(myword)))\n",
    "print(\"ANTONYMS: \" + str(antonyms_word(myword)))\n"
   ]
  },
  {
   "cell_type": "code",
   "execution_count": null,
   "metadata": {},
   "outputs": [],
   "source": []
  }
 ],
 "metadata": {
  "kernelspec": {
   "display_name": "Python 3",
   "language": "python",
   "name": "python3"
  },
  "language_info": {
   "codemirror_mode": {
    "name": "ipython",
    "version": 3
   },
   "file_extension": ".py",
   "mimetype": "text/x-python",
   "name": "python",
   "nbconvert_exporter": "python",
   "pygments_lexer": "ipython3",
   "version": "3.7.6"
  }
 },
 "nbformat": 4,
 "nbformat_minor": 4
}
