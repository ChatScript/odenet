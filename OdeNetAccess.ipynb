{
 "cells": [
  {
   "cell_type": "markdown",
   "metadata": {},
   "source": [
    "Zunächst müssen wir das OdeNet-Modul importieren"
   ]
  },
  {
   "cell_type": "code",
   "execution_count": 1,
   "metadata": {},
   "outputs": [],
   "source": [
    "from odenet import *\n"
   ]
  },
  {
   "cell_type": "markdown",
   "metadata": {},
   "source": [
    "Mit OdeNet.word_info() greift man auf Lexikon-Einträge zu, bekommt die Lexikon-ID für ein Wort, den Lemma-Wert, POS und die IDs der Synsets, in denen das Wort enthalten ist."
   ]
  },
  {
   "cell_type": "code",
   "execution_count": 9,
   "metadata": {},
   "outputs": [
    {
     "name": "stdout",
     "output_type": "stream",
     "text": [
      "wenigst a \n",
      "------------------------\n",
      "SENSE: odenet-1914-a\n",
      "ILI: i8207\n",
      "DEFINITION: the least possible\n",
      "DE_DEFINITION: []\n",
      "WORDS: ['kleinst', 'geringst', 'wenigst', 'minimalst']\n",
      "RELATIONS: \n",
      "------------------------\n",
      "LEMMA: wenigst\n",
      "POS: a\n",
      "SENSE ID: w9329_1914-a\n"
     ]
    }
   ],
   "source": [
    "OdeNet.word_info(\"wenigst\")"
   ]
  },
  {
   "cell_type": "markdown",
   "metadata": {},
   "source": [
    "Hier bekommt man die Lexikon-IDs für eine Liste von Wörtern."
   ]
  },
  {
   "cell_type": "code",
   "execution_count": 3,
   "metadata": {},
   "outputs": [
    {
     "name": "stdout",
     "output_type": "stream",
     "text": [
      "Frühling: w14145\n",
      "Sommer: w44811\n",
      "Herbst: w1202374\n",
      "Winter: w25612\n"
     ]
    }
   ],
   "source": [
    "wordlist = ['Frühling','Sommer','Herbst','Winter']\n",
    "for w in wordlist:\n",
    "    print(w + ': ' + OdeNet.word_id(w))"
   ]
  },
  {
   "cell_type": "markdown",
   "metadata": {},
   "source": [
    "Mit check_word_id bekommt man für eine Lexikon-ID Lemma, POS, Synsets und Relationen"
   ]
  },
  {
   "cell_type": "code",
   "execution_count": 4,
   "metadata": {},
   "outputs": [
    {
     "name": "stdout",
     "output_type": "stream",
     "text": [
      "LEMMA: Frühling\n",
      "POS: n\n",
      "SENSE ID: w14145_3067-n\n"
     ]
    }
   ],
   "source": [
    "check_word_id('w14145')"
   ]
  },
  {
   "cell_type": "markdown",
   "metadata": {},
   "source": [
    "Mit words_in_synset bekommt man die Wörter, die in einem Synset sind."
   ]
  },
  {
   "cell_type": "code",
   "execution_count": 2,
   "metadata": {},
   "outputs": [
    {
     "data": {
      "text/plain": [
       "['Web-Suchmaschine', 'Internet-Suchmaschine']"
      ]
     },
     "execution_count": 2,
     "metadata": {},
     "output_type": "execute_result"
    }
   ],
   "source": [
    "words_in_synset('odenet-362363-n')"
   ]
  },
  {
   "cell_type": "markdown",
   "metadata": {},
   "source": [
    "Mit check_synset bekommt man alle Informationen zu einem Synset."
   ]
  },
  {
   "cell_type": "code",
   "execution_count": 2,
   "metadata": {},
   "outputs": [
    {
     "name": "stdout",
     "output_type": "stream",
     "text": [
      "('i69094', 'a rationalized mental attitude', [], [('hyponym', 'odenet-2994-n'), ('hyponym', 'odenet-5478-n')], ['Fassung', 'Haltung', 'Kontrolle', 'Beherrschung', 'Contenance'], ['odenet-10112-n', 'odenet-11492-n', 'odenet-12665-n', 'odenet-19674-n', 'odenet-22960-n', 'odenet-28117-n', 'odenet-3853-n', 'odenet-905-n'])\n",
      "('i69168', 'a mental position from which things are viewed', [], [('hypernym', 'odenet-905-n'), ('hyponym', 'odenet-4991-n')], ['Option', 'Perspektive', 'günstige Gelegenheit', 'Weg', 'Gunst der Stunde', 'Chance', 'Möglichkeit', 'Aussicht'], ['odenet-24733-n', 'odenet-2994-n'])\n"
     ]
    }
   ],
   "source": [
    "print(check_synset(\"odenet-10112-n\"))\n",
    "print(check_synset(\"odenet-2994-n\"))\n",
    "#print(check_synset(\"odenet-10706-n\"))\n",
    "#print(check_synset(\"odenet-12925-n\"))\n",
    "#print(check_synset(\"odenet-29326-n\"))\n",
    "#print(check_synset(\"odenet-3723-n\"))\n",
    "#print(check_synset(\"odenet-6183-n\"))\n",
    "#print(check_synset(\"odenet-28448-n\"))\n",
    "#print(check_synset(\"odenet-29006-n\"))\n"
   ]
  },
  {
   "cell_type": "code",
   "execution_count": 6,
   "metadata": {},
   "outputs": [
    {
     "data": {
      "text/plain": [
       "[('w3305_664-n',\n",
       "  'odenet-4311-n',\n",
       "  ['Steuerung', 'Angleichung', 'Aussteuerung']),\n",
       " ('w3305_10289-n', 'odenet-31291-n', ['Heermannie', 'Heerbann']),\n",
       " ('w3305_24723-n', 'odenet-31291-n', ['Heermannie', 'Heerbann']),\n",
       " ('w3305_24723-n', 'odenet-9595-n', ['Preis', 'Gebühr', 'Abgabe', 'Taxe'])]"
      ]
     },
     "execution_count": 6,
     "metadata": {},
     "output_type": "execute_result"
    }
   ],
   "source": [
    "hypernyms_word(\"Steuer\")"
   ]
  },
  {
   "cell_type": "code",
   "execution_count": 2,
   "metadata": {},
   "outputs": [
    {
     "data": {
      "text/plain": [
       "['odenet-10049-n', 'odenet-26421-n']"
      ]
     },
     "execution_count": 2,
     "metadata": {},
     "output_type": "execute_result"
    }
   ],
   "source": [
    "hypernyms_path(\"odenet-4634-n\",[])"
   ]
  },
  {
   "cell_type": "code",
   "execution_count": 8,
   "metadata": {},
   "outputs": [
    {
     "data": {
      "text/plain": [
       "[('w64697_17741-n',\n",
       "  'odenet-14850-n',\n",
       "  ['Lager',\n",
       "   'Kinderlandverschickung',\n",
       "   'Freizeit',\n",
       "   'Ferienlager',\n",
       "   'Ferienfreizeit']),\n",
       " ('w64697_17741-n',\n",
       "  'odenet-17740-n',\n",
       "  ['Auftritt',\n",
       "   'Gig',\n",
       "   'Live Event',\n",
       "   'Live-Act',\n",
       "   'Live-Veranstaltung',\n",
       "   'Liveact',\n",
       "   'Live-Gig',\n",
       "   'Show',\n",
       "   'Live-Auftritt',\n",
       "   'Live-Entertainment']),\n",
       " ('w64697_17741-n',\n",
       "  'odenet-17742-n',\n",
       "  ['Tiershow', 'Tiertheater', 'Tierveranstaltung']),\n",
       " ('w64697_17741-n',\n",
       "  'odenet-214-n',\n",
       "  ['Besprechung', 'Consulting', 'Beratung', 'Konsultation', 'Gespräch']),\n",
       " ('w64697_17741-n', 'odenet-25683-n', ['Matinee', 'Vormittagsveranstaltung']),\n",
       " ('w64697_17741-n',\n",
       "  'odenet-2801-n',\n",
       "  ['Gespräch',\n",
       "   'Austausch',\n",
       "   'Unterhaltung',\n",
       "   'Gedankenaustausch',\n",
       "   'Zwiegespräch',\n",
       "   'Unterredung',\n",
       "   'Diskussion',\n",
       "   'Zwiesprache',\n",
       "   'Konversation',\n",
       "   'Wortwechsel',\n",
       "   'Aussprache',\n",
       "   'Dialog']),\n",
       " ('w64697_17741-n',\n",
       "  'odenet-32187-n',\n",
       "  ['Vorkurs',\n",
       "   'Einführungsveranstaltung',\n",
       "   'Vorbereitungskurs',\n",
       "   'Vorkursus',\n",
       "   'Propädeutikum']),\n",
       " ('w64697_17741-n',\n",
       "  'odenet-33873-n',\n",
       "  ['Großereignis', 'Großveranstaltung', 'Massenveranstaltung', 'Massenevent']),\n",
       " ('w64697_17741-n',\n",
       "  'odenet-3868-n',\n",
       "  ['Premierenfeier',\n",
       "   'Kick-off-Veranstaltung',\n",
       "   'Eröffnungsveranstaltung',\n",
       "   'Kick-off-Event',\n",
       "   'Auftaktveranstaltung']),\n",
       " ('w64697_17741-n',\n",
       "  'odenet-804-n',\n",
       "  ['Abendgesellschaft', 'Abendveranstaltung', 'bunter Abend', 'Soiree']),\n",
       " ('w64697_17741-n',\n",
       "  'odenet-8587-n',\n",
       "  ['Galaveranstaltung',\n",
       "   'Festveranstaltung',\n",
       "   'Festlichkeit',\n",
       "   'Festivität',\n",
       "   'Gala']),\n",
       " ('w64697_17741-n',\n",
       "  'odenet-9680-n',\n",
       "  ['Ball', 'Tanzabend', 'Tanzveranstaltung', 'Tanzfest', 'Tanzerei'])]"
      ]
     },
     "execution_count": 8,
     "metadata": {},
     "output_type": "execute_result"
    }
   ],
   "source": [
    "hyponyms_word(\"Veranstaltung\")"
   ]
  },
  {
   "cell_type": "code",
   "execution_count": 9,
   "metadata": {},
   "outputs": [
    {
     "data": {
      "text/plain": [
       "[('w12715_2720-n',\n",
       "  'odenet-14514-n',\n",
       "  ['Saudi-Arabien', 'Königreich Saudi-Arabien', 'Saudisch-Arabien']),\n",
       " ('w12715_2720-n', 'odenet-14519-n', ['Syrien', 'Arabische Republik Syrien']),\n",
       " ('w12715_2720-n', 'odenet-14516-n', ['Türkei', 'Republik Türkei']),\n",
       " ('w12715_9897-n', 'odenet-9309-n', ['Ferner Osten', 'Fernost'])]"
      ]
     },
     "execution_count": 9,
     "metadata": {},
     "output_type": "execute_result"
    }
   ],
   "source": [
    "meronyms_word(\"Morgenland\")"
   ]
  },
  {
   "cell_type": "code",
   "execution_count": 2,
   "metadata": {},
   "outputs": [
    {
     "data": {
      "text/plain": [
       "[['Piepmatz', 'Federvieh', 'gefiederter Freund'],\n",
       " ['Flugzeug', 'Flieger', 'Kiste', 'Maschine', 'Aeroplan'],\n",
       " ['Type',\n",
       "  'Sonderling',\n",
       "  'Kauz',\n",
       "  'seltsamer Heiliger',\n",
       "  'Unikum',\n",
       "  'komischer Kauz',\n",
       "  'Wunderling',\n",
       "  'seltsamer Kauz',\n",
       "  'schrille Schraube',\n",
       "  'seltsamer Patron',\n",
       "  'skurriler Typ',\n",
       "  'verrückte Person',\n",
       "  'schräger Vogel',\n",
       "  'bunter Vogel',\n",
       "  '(ausgefallener, besonderer) Mensch',\n",
       "  'Urvieh',\n",
       "  'komischer Vogel',\n",
       "  'schräger Fürst',\n",
       "  'sonderbarer Zeitgenosse',\n",
       "  'irrer Typ',\n",
       "  'Original',\n",
       "  'schrille Type',\n",
       "  'verrücktes Huhn',\n",
       "  'schrille Person',\n",
       "  'Mensch, wie man ihn nicht alle Tage trifft',\n",
       "  'bizarre Person',\n",
       "  'merkwürdiger Zeitgenosse',\n",
       "  'Freak',\n",
       "  'ungewöhnlicher Mensch',\n",
       "  'seltsame Type',\n",
       "  'uriger Typ',\n",
       "  'komischer Heiliger']]"
      ]
     },
     "execution_count": 2,
     "metadata": {},
     "output_type": "execute_result"
    }
   ],
   "source": [
    "synonyms_word(\"Vogel\")"
   ]
  },
  {
   "cell_type": "code",
   "execution_count": 10,
   "metadata": {
    "scrolled": true
   },
   "outputs": [
    {
     "name": "stdout",
     "output_type": "stream",
     "text": [
      "zeigen v \n",
      "SENSE: odenet-533-v  ('i33216', [], 'Vorschlagen, etwas für jemanden zu tun.', [('hypernym', 'odenet-8644-v')], ['andienen', 'anbieten', 'bieten', 'zeigen'])\n",
      "\n",
      "SENSE: odenet-3065-v  ('i32498', [], 'Jemanden etwas sehen lassen.', [('hypernym', 'odenet-9246-v')], ['zeigen', 'präsentieren', 'darstellen', 'vorzeigen', 'abbilden', 'vorführen', 'demonstrieren', 'vorstellen'])\n",
      "\n",
      "SENSE: odenet-4206-v  ('i32440', [], 'Etwas öffentlich sagen.', [('hyponym', 'odenet-2339-v'), ('hyponym', 'odenet-11159-v'), ('hyponym', 'odenet-1192-v'), ('hyponym', 'odenet-22914-v'), ('hyponym', 'odenet-2770-v')], ['kundtun', 'zeigen', 'offenbaren', 'bekunden'])\n",
      "\n",
      "SENSE: odenet-5328-v  ('i25048', [], 'Die Wahrheit von etwas deutlich machen.', [('hypernym', 'odenet-12792-v')], ['bestätigen', 'zeigen', 'aufzeigen', 'nachweisen', 'belegen', 'Nachweis erbringen', 'Beweis erbringen für', 'beweisen'])\n",
      "\n",
      "SENSE: odenet-9990-v  ('i25049', [], 'Sich als etwas erweisen, offenbaren.', [], ['zeigen', 'niederschlagen', 'manifestieren'])\n",
      "\n",
      "SENSE: odenet-10538-v  ('i30180', [], 'In einem Bild darstellen.', [], ['zeigen', 'repräsentieren', 'wiedergeben', 'bildlich darstellen', 'darstellen', 'abbilden', 'zur Darstellung bringen'])\n",
      "\n",
      "HYPERNYMS: [('w2722_533-v', 'odenet-8644-v', ['übergeben', 'abgeben', 'durchgeben', 'weiterleiten', 'überweisen', 'weitergeben']), ('w2722_3065-v', 'odenet-9246-v', ['ausdrücken', 'sagen', 'formulieren', 'äußern', 'phrasieren', 'verbalisieren']), ('w2722_5328-v', 'odenet-12792-v', ['bestärken', 'bekräftigen', 'beleben'])]\n",
      "HYPONYMS: [('w2722_4206-v', 'odenet-2339-v', ['freilegen', 'freigeben']), ('w2722_4206-v', 'odenet-11159-v', ['anzeigen', 'indizieren', 'als angezeigt erscheinen lassen']), ('w2722_4206-v', 'odenet-1192-v', ['widerspiegeln', 'zurückwerfen', 'repräsentieren', 'spiegeln', 'wiedergeben', 'reflektieren']), ('w2722_4206-v', 'odenet-22914-v', ['enthüllen', 'aufdecken', 'etwas ans Licht bringen', 'etwas zum Vorschein bringen', 'Geheimnis lüften', 'etwas ans Tageslicht bringen', 'Schleier lüften']), ('w2722_4206-v', 'odenet-2770-v', ['auflegen', 'ausgeben', 'ausstellen', 'herausgeben', 'in Umlauf setzen', 'verbreiten', 'in Verkehr bringen', 'in Umlauf bringen', 'emittieren'])]\n",
      "MERONYMS: []\n",
      "HOLONYMS: []\n",
      "ANTONYMS: []\n"
     ]
    }
   ],
   "source": [
    "myword = \"zeigen\"\n",
    "(lemma_id, lemma_value, pos, senses) = check_word_lemma(myword)\n",
    "print (lemma_value + \" \" + pos + \" \")\n",
    "for sense in senses:\n",
    "    print(\"SENSE: \" + str(sense[1]) + \"  \" + str(check_synset(sense[1])) + \"\\n\")\n",
    "print(\"HYPERNYMS: \" + str(hypernyms_word(myword)))\n",
    "print(\"HYPONYMS: \" + str(hyponyms_word(myword)))\n",
    "print(\"MERONYMS: \" + str(meronyms_word(myword)))\n",
    "print(\"HOLONYMS: \" + str(holonyms_word(myword)))\n",
    "print(\"ANTONYMS: \" + str(antonyms_word(myword)))\n"
   ]
  },
  {
   "cell_type": "code",
   "execution_count": null,
   "metadata": {},
   "outputs": [],
   "source": []
  }
 ],
 "metadata": {
  "kernelspec": {
   "display_name": "Python 3",
   "language": "python",
   "name": "python3"
  },
  "language_info": {
   "codemirror_mode": {
    "name": "ipython",
    "version": 3
   },
   "file_extension": ".py",
   "mimetype": "text/x-python",
   "name": "python",
   "nbconvert_exporter": "python",
   "pygments_lexer": "ipython3",
   "version": "3.7.6"
  }
 },
 "nbformat": 4,
 "nbformat_minor": 4
}
