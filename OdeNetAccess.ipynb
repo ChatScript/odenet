{
 "cells": [
  {
   "cell_type": "markdown",
   "metadata": {},
   "source": [
    "Zunächst müssen wir das OdeNet-Modul importieren"
   ]
  },
  {
   "cell_type": "markdown",
   "metadata": {},
   "source": [
    "## from odenet import *\n"
   ]
  },
  {
   "cell_type": "markdown",
   "metadata": {},
   "source": [
    "Mit OdeNet.word_info() greift man auf Lexikon-Einträge zu, bekommt die Lexikon-ID für ein Wort, den Lemma-Wert, POS und die IDs der Synsets, in denen das Wort enthalten ist."
   ]
  },
  {
   "cell_type": "code",
   "execution_count": 4,
   "metadata": {},
   "outputs": [
    {
     "name": "stdout",
     "output_type": "stream",
     "text": [
      "Eigenschaft n \n",
      "SENSE: odenet-1203-n  ('i35577', [], 'Abstraktion, die eine Entität beschreibt.', [('hypernym', 'odenet-8570-n'), ('hyponym', 'odenet-10789-n'), ('hyponym', 'odenet-4026-n'), ('hyponym', 'odenet-7939-n')], ['Besonderheit', 'Spezifikum', 'Eigenheit', 'Eigentümlichkeit', 'Wesensmerkmal', 'Kennzeichen', 'Charakteristikum', 'Eigenschaft', 'Charakterzug', 'Attribut', 'Attributivum', 'Merkmal', 'Eigenart', 'Manier', 'Duktus', 'Wesenszug'])\n",
      "\n",
      "SENSE: odenet-4026-n  ('i67612', [], 'Gesamtheit der Eigenschaften einer Person.', [('hypernym', 'odenet-1203-n')], ['Zug', 'Einstellung', 'Eigenschaft', 'Charakterzug', 'Merkmal', 'Haltung', 'Charakteristik', 'Charaktermerkmal', 'Charaktereigenschaft'])\n",
      "\n",
      "SENSE: odenet-8857-n  ('i75200', [], 'Etwas, das zu einem Ergebnis beiträgt.', [('hypernym', 'odenet-8141-n'), ('hyponym', 'odenet-3739-n'), ('hyponym', 'odenet-460-n')], ['Eigenschaft', 'Umstand', 'Faktor', 'Tatsache', 'Gegebenheit', 'Rahmenbedingung', 'Randbedingung'])\n",
      "\n",
      "SENSE: odenet-10706-n  ('i67614', [], 'Gesamtheit der Merkmale und Aspekte von etwas.', [('hypernym', 'odenet-2741-n')], ['Besonderheit', 'Kennzeichen', 'Charakteristikum', 'Eigenschaft', 'Funktionalität', 'Funktion', 'Leistungsmerkmal', 'Feature', 'technische Daten', 'Ausstattungsmerkmal'])\n",
      "\n",
      "HYPERNYMS: [('w5990_1203-n', 'odenet-8570-n', ['Abstraktion', 'Erkennen des Wesentlichen', 'Vereinfachung']), ('w5990_4026-n', 'odenet-1203-n', ['Besonderheit', 'Spezifikum', 'Eigenheit', 'Eigentümlichkeit', 'Wesensmerkmal', 'Kennzeichen', 'Charakteristikum', 'Eigenschaft', 'Charakterzug', 'Attribut', 'Attributivum', 'Merkmal', 'Eigenart', 'Manier', 'Duktus', 'Wesenszug']), ('w5990_8857-n', 'odenet-8141-n', ['Sachverhalt', 'Tatsache', 'Faktum', 'Gegebenheit', 'Fakt']), ('w5990_10706-n', 'odenet-2741-n', ['Utensilien', 'Apparatur', 'Ausstattung', 'Rüstzeug', 'Equipment', 'Ausrüstung', 'Gadget', 'Gerätschaft'])]\n",
      "HYPONYMS: [('w5990_1203-n', 'odenet-10789-n', ['Gemüt', 'Seele', 'Thymos', 'Innenleben']), ('w5990_1203-n', 'odenet-4026-n', ['Zug', 'Einstellung', 'Eigenschaft', 'Charakterzug', 'Merkmal', 'Haltung', 'Charakteristik', 'Charaktermerkmal', 'Charaktereigenschaft']), ('w5990_1203-n', 'odenet-7939-n', ['Klasse', 'Rang', 'Qualität', 'Stufe', 'Grad']), ('w5990_8857-n', 'odenet-3739-n', ['Sprungbedingung', 'Verzweigungsbedingung']), ('w5990_8857-n', 'odenet-460-n', ['Auflagefläche', 'Fundament', 'Ladefläche'])]\n",
      "MERONYMS: []\n",
      "HOLONYMS: []\n",
      "ANTONYMS: []\n",
      "LEMMA: Eigenschaft\n",
      "POS: n\n",
      "SENSE ID: w5990_10706-n\n"
     ]
    }
   ],
   "source": [
    "OdeNet.word_info(\"Eigenschaft\")"
   ]
  },
  {
   "cell_type": "markdown",
   "metadata": {},
   "source": [
    "Hier bekommt man die Lexikon-IDs für eine Liste von Wörtern."
   ]
  },
  {
   "cell_type": "code",
   "execution_count": 3,
   "metadata": {},
   "outputs": [
    {
     "name": "stdout",
     "output_type": "stream",
     "text": [
      "Frühling: w14145\n",
      "Sommer: w44811\n",
      "Herbst: w1202374\n",
      "Winter: w25612\n"
     ]
    }
   ],
   "source": [
    "wordlist = ['Frühling','Sommer','Herbst','Winter']\n",
    "for w in wordlist:\n",
    "    print(w + ': ' + OdeNet.word_id(w))"
   ]
  },
  {
   "cell_type": "markdown",
   "metadata": {},
   "source": [
    "Mit check_word_id bekommt man für eine Lexikon-ID Lemma, POS, Synsets und Relationen"
   ]
  },
  {
   "cell_type": "code",
   "execution_count": 4,
   "metadata": {},
   "outputs": [
    {
     "name": "stdout",
     "output_type": "stream",
     "text": [
      "LEMMA: Frühling\n",
      "POS: n\n",
      "SENSE ID: w14145_3067-n\n"
     ]
    }
   ],
   "source": [
    "check_word_id('w14145')"
   ]
  },
  {
   "cell_type": "markdown",
   "metadata": {},
   "source": [
    "Mit words_in_synset bekommt man die Wörter, die in einem Synset sind."
   ]
  },
  {
   "cell_type": "code",
   "execution_count": 7,
   "metadata": {},
   "outputs": [
    {
     "data": {
      "text/plain": [
       "['Weißkittel',\n",
       " 'Doktor',\n",
       " 'Medikus',\n",
       " 'Arzt',\n",
       " 'Onkel Doktor',\n",
       " 'Heilkundiger',\n",
       " 'Herr Doktor',\n",
       " 'Mediziner',\n",
       " 'Halbgott in Weiß',\n",
       " 'Doc',\n",
       " 'Ärztin']"
      ]
     },
     "execution_count": 7,
     "metadata": {},
     "output_type": "execute_result"
    }
   ],
   "source": [
    "words_in_synset('odenet-9673-n')"
   ]
  },
  {
   "cell_type": "markdown",
   "metadata": {},
   "source": [
    "Mit check_synset bekommt man alle Informationen zu einem Synset."
   ]
  },
  {
   "cell_type": "code",
   "execution_count": 5,
   "metadata": {},
   "outputs": [
    {
     "name": "stdout",
     "output_type": "stream",
     "text": [
      "('', [], 'Der nicht beschriebene Teil zwischen zwei Wörtern.', [('hypernym', 'odenet-2640-n')], ['Abstand', 'Leerstelle', 'Leerschlag', 'Leerzeichen', 'Leerschritt', 'Wortzwischenraum'])\n",
      "('i63745', 'the distance by which one thing clears another; the space between them', [], [('hyponym', 'odenet-226-n'), ('hyponym', 'odenet-20472-n')], ['Leerstelle', 'Hohlraum', 'Zwischenraum', 'Lücke', 'Kavität', 'Leerraum', 'Auslassung', 'Leerfeld'])\n"
     ]
    }
   ],
   "source": [
    "#print(check_synset(\"odenet-3812-n\"))\n",
    "print(check_synset(\"odenet-48-n\"))\n",
    "print(check_synset(\"odenet-2640-n\"))"
   ]
  },
  {
   "cell_type": "code",
   "execution_count": 3,
   "metadata": {},
   "outputs": [
    {
     "data": {
      "text/plain": [
       "[]"
      ]
     },
     "execution_count": 3,
     "metadata": {},
     "output_type": "execute_result"
    }
   ],
   "source": [
    "hypernyms_word(\"Distanz\")"
   ]
  },
  {
   "cell_type": "code",
   "execution_count": 8,
   "metadata": {},
   "outputs": [
    {
     "data": {
      "text/plain": [
       "[('w64697_17741-n',\n",
       "  'odenet-14850-n',\n",
       "  ['Lager',\n",
       "   'Kinderlandverschickung',\n",
       "   'Freizeit',\n",
       "   'Ferienlager',\n",
       "   'Ferienfreizeit']),\n",
       " ('w64697_17741-n',\n",
       "  'odenet-17740-n',\n",
       "  ['Auftritt',\n",
       "   'Gig',\n",
       "   'Live Event',\n",
       "   'Live-Act',\n",
       "   'Live-Veranstaltung',\n",
       "   'Liveact',\n",
       "   'Live-Gig',\n",
       "   'Show',\n",
       "   'Live-Auftritt',\n",
       "   'Live-Entertainment']),\n",
       " ('w64697_17741-n',\n",
       "  'odenet-17742-n',\n",
       "  ['Tiershow', 'Tiertheater', 'Tierveranstaltung']),\n",
       " ('w64697_17741-n',\n",
       "  'odenet-214-n',\n",
       "  ['Besprechung', 'Consulting', 'Beratung', 'Konsultation', 'Gespräch']),\n",
       " ('w64697_17741-n', 'odenet-25683-n', ['Matinee', 'Vormittagsveranstaltung']),\n",
       " ('w64697_17741-n',\n",
       "  'odenet-2801-n',\n",
       "  ['Gespräch',\n",
       "   'Austausch',\n",
       "   'Unterhaltung',\n",
       "   'Gedankenaustausch',\n",
       "   'Zwiegespräch',\n",
       "   'Unterredung',\n",
       "   'Diskussion',\n",
       "   'Zwiesprache',\n",
       "   'Konversation',\n",
       "   'Wortwechsel',\n",
       "   'Aussprache',\n",
       "   'Dialog']),\n",
       " ('w64697_17741-n',\n",
       "  'odenet-32187-n',\n",
       "  ['Vorkurs',\n",
       "   'Einführungsveranstaltung',\n",
       "   'Vorbereitungskurs',\n",
       "   'Vorkursus',\n",
       "   'Propädeutikum']),\n",
       " ('w64697_17741-n',\n",
       "  'odenet-33873-n',\n",
       "  ['Großereignis', 'Großveranstaltung', 'Massenveranstaltung', 'Massenevent']),\n",
       " ('w64697_17741-n',\n",
       "  'odenet-3868-n',\n",
       "  ['Premierenfeier',\n",
       "   'Kick-off-Veranstaltung',\n",
       "   'Eröffnungsveranstaltung',\n",
       "   'Kick-off-Event',\n",
       "   'Auftaktveranstaltung']),\n",
       " ('w64697_17741-n',\n",
       "  'odenet-804-n',\n",
       "  ['Abendgesellschaft', 'Abendveranstaltung', 'bunter Abend', 'Soiree']),\n",
       " ('w64697_17741-n',\n",
       "  'odenet-8587-n',\n",
       "  ['Galaveranstaltung',\n",
       "   'Festveranstaltung',\n",
       "   'Festlichkeit',\n",
       "   'Festivität',\n",
       "   'Gala']),\n",
       " ('w64697_17741-n',\n",
       "  'odenet-9680-n',\n",
       "  ['Ball', 'Tanzabend', 'Tanzveranstaltung', 'Tanzfest', 'Tanzerei'])]"
      ]
     },
     "execution_count": 8,
     "metadata": {},
     "output_type": "execute_result"
    }
   ],
   "source": [
    "hyponyms_word(\"Veranstaltung\")"
   ]
  },
  {
   "cell_type": "code",
   "execution_count": 9,
   "metadata": {},
   "outputs": [
    {
     "data": {
      "text/plain": [
       "[('w12715_2720-n',\n",
       "  'odenet-14514-n',\n",
       "  ['Saudi-Arabien', 'Königreich Saudi-Arabien', 'Saudisch-Arabien']),\n",
       " ('w12715_2720-n', 'odenet-14519-n', ['Syrien', 'Arabische Republik Syrien']),\n",
       " ('w12715_2720-n', 'odenet-14516-n', ['Türkei', 'Republik Türkei']),\n",
       " ('w12715_9897-n', 'odenet-9309-n', ['Ferner Osten', 'Fernost'])]"
      ]
     },
     "execution_count": 9,
     "metadata": {},
     "output_type": "execute_result"
    }
   ],
   "source": [
    "meronyms_word(\"Morgenland\")"
   ]
  },
  {
   "cell_type": "code",
   "execution_count": 10,
   "metadata": {
    "scrolled": true
   },
   "outputs": [
    {
     "name": "stdout",
     "output_type": "stream",
     "text": [
      "zeigen v \n",
      "SENSE: odenet-533-v  ('i33216', [], 'Vorschlagen, etwas für jemanden zu tun.', [('hypernym', 'odenet-8644-v')], ['andienen', 'anbieten', 'bieten', 'zeigen'])\n",
      "\n",
      "SENSE: odenet-3065-v  ('i32498', [], 'Jemanden etwas sehen lassen.', [('hypernym', 'odenet-9246-v')], ['zeigen', 'präsentieren', 'darstellen', 'vorzeigen', 'abbilden', 'vorführen', 'demonstrieren', 'vorstellen'])\n",
      "\n",
      "SENSE: odenet-4206-v  ('i32440', [], 'Etwas öffentlich sagen.', [('hyponym', 'odenet-2339-v'), ('hyponym', 'odenet-11159-v'), ('hyponym', 'odenet-1192-v'), ('hyponym', 'odenet-22914-v'), ('hyponym', 'odenet-2770-v')], ['kundtun', 'zeigen', 'offenbaren', 'bekunden'])\n",
      "\n",
      "SENSE: odenet-5328-v  ('i25048', [], 'Die Wahrheit von etwas deutlich machen.', [('hypernym', 'odenet-12792-v')], ['bestätigen', 'zeigen', 'aufzeigen', 'nachweisen', 'belegen', 'Nachweis erbringen', 'Beweis erbringen für', 'beweisen'])\n",
      "\n",
      "SENSE: odenet-9990-v  ('i25049', [], 'Sich als etwas erweisen, offenbaren.', [], ['zeigen', 'niederschlagen', 'manifestieren'])\n",
      "\n",
      "SENSE: odenet-10538-v  ('i30180', [], 'In einem Bild darstellen.', [], ['zeigen', 'repräsentieren', 'wiedergeben', 'bildlich darstellen', 'darstellen', 'abbilden', 'zur Darstellung bringen'])\n",
      "\n",
      "HYPERNYMS: [('w2722_533-v', 'odenet-8644-v', ['übergeben', 'abgeben', 'durchgeben', 'weiterleiten', 'überweisen', 'weitergeben']), ('w2722_3065-v', 'odenet-9246-v', ['ausdrücken', 'sagen', 'formulieren', 'äußern', 'phrasieren', 'verbalisieren']), ('w2722_5328-v', 'odenet-12792-v', ['bestärken', 'bekräftigen', 'beleben'])]\n",
      "HYPONYMS: [('w2722_4206-v', 'odenet-2339-v', ['freilegen', 'freigeben']), ('w2722_4206-v', 'odenet-11159-v', ['anzeigen', 'indizieren', 'als angezeigt erscheinen lassen']), ('w2722_4206-v', 'odenet-1192-v', ['widerspiegeln', 'zurückwerfen', 'repräsentieren', 'spiegeln', 'wiedergeben', 'reflektieren']), ('w2722_4206-v', 'odenet-22914-v', ['enthüllen', 'aufdecken', 'etwas ans Licht bringen', 'etwas zum Vorschein bringen', 'Geheimnis lüften', 'etwas ans Tageslicht bringen', 'Schleier lüften']), ('w2722_4206-v', 'odenet-2770-v', ['auflegen', 'ausgeben', 'ausstellen', 'herausgeben', 'in Umlauf setzen', 'verbreiten', 'in Verkehr bringen', 'in Umlauf bringen', 'emittieren'])]\n",
      "MERONYMS: []\n",
      "HOLONYMS: []\n",
      "ANTONYMS: []\n"
     ]
    }
   ],
   "source": [
    "myword = \"zeigen\"\n",
    "(lemma_id, lemma_value, pos, senses) = check_word_lemma(myword)\n",
    "print (lemma_value + \" \" + pos + \" \")\n",
    "for sense in senses:\n",
    "    print(\"SENSE: \" + str(sense[1]) + \"  \" + str(check_synset(sense[1])) + \"\\n\")\n",
    "print(\"HYPERNYMS: \" + str(hypernyms_word(myword)))\n",
    "print(\"HYPONYMS: \" + str(hyponyms_word(myword)))\n",
    "print(\"MERONYMS: \" + str(meronyms_word(myword)))\n",
    "print(\"HOLONYMS: \" + str(holonyms_word(myword)))\n",
    "print(\"ANTONYMS: \" + str(antonyms_word(myword)))\n"
   ]
  },
  {
   "cell_type": "code",
   "execution_count": null,
   "metadata": {},
   "outputs": [],
   "source": []
  }
 ],
 "metadata": {
  "kernelspec": {
   "display_name": "Python 3",
   "language": "python",
   "name": "python3"
  },
  "language_info": {
   "codemirror_mode": {
    "name": "ipython",
    "version": 3
   },
   "file_extension": ".py",
   "mimetype": "text/x-python",
   "name": "python",
   "nbconvert_exporter": "python",
   "pygments_lexer": "ipython3",
   "version": "3.7.6"
  }
 },
 "nbformat": 4,
 "nbformat_minor": 4
}
