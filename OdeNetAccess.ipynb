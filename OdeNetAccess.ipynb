{
 "cells": [
  {
   "cell_type": "markdown",
   "metadata": {},
   "source": [
    "Zunächst müssen wir das OdeNet-Modul importieren"
   ]
  },
  {
   "cell_type": "code",
   "execution_count": 1,
   "metadata": {},
   "outputs": [],
   "source": [
    "from odenet import *\n"
   ]
  },
  {
   "cell_type": "markdown",
   "metadata": {},
   "source": [
    "Mit OdeNet.word_info() greift man auf Lexikon-Einträge zu, bekommt die Lexikon-ID für ein Wort, den Lemma-Wert, POS und die IDs der Synsets, in denen das Wort enthalten ist."
   ]
  },
  {
   "cell_type": "code",
   "execution_count": 8,
   "metadata": {},
   "outputs": [
    {
     "name": "stdout",
     "output_type": "stream",
     "text": [
      "Gebäude n \n",
      "SENSE: odenet-1635-n  ('i113537', 'an irrecoverable state of devastation and destruction', [], [('hypernym', 'odenet-25325-n'), ('hyponym', 'odenet-28661-n'), ('hyponym', 'odenet-11145-n'), ('hyponym', 'odenet-14061-n'), ('hyponym', 'odenet-5908-n'), ('hyponym', 'odenet-21802-n')], ['Bau', 'Gemäuer', 'Bauwerk', 'Gebäude'])\n",
      "\n",
      "SENSE: odenet-33774-n  ('i59707', 'a thing constructed; a complex entity constructed of many parts', [], [('hypernym', 'odenet-2254-n'), ('hyponym', 'odenet-11952-n'), ('hyponym', 'odenet-29385-n'), ('hyponym', 'odenet-3014-n')], ['Bauwerk', 'Gebäude', 'bauliche Anlage'])\n",
      "\n",
      "HYPERNYMS: [('w8072_1635-n', 'odenet-25325-n', ['Verödung', 'Sklerotherapie']), ('w8072_33774-n', 'odenet-2254-n', ['Erscheinung', 'Phantom', 'Artefakt', 'Hirngespinst', 'Einbildung', 'Phantasmagorie', 'Sinnestäuschung', 'Schimäre', 'Trugbild', 'Chimäre'])]\n",
      "HYPONYMS: [('w8072_1635-n', 'odenet-28661-n', ['Gestalt', 'Körperbau', 'Statur', 'Wuchs', 'Habitus', 'Körpergröße', '(körperliche) Konstitution']), ('w8072_1635-n', 'odenet-11145-n', ['Villa', 'Prachtbau', 'Chateau', 'Palast', 'Schloss', 'Palais']), ('w8072_1635-n', 'odenet-14061-n', ['runder Saal', 'Rotunde', 'Rundbau']), ('w8072_1635-n', 'odenet-5908-n', ['Luftschutzraum', 'Luftschutzkeller', 'Schutzraum', 'Schutzbau']), ('w8072_1635-n', 'odenet-21802-n', ['Zweckbau', 'Nutzbau']), ('w8072_33774-n', 'odenet-11952-n', ['Schule', 'Schulhaus', 'Schulgebäude']), ('w8072_33774-n', 'odenet-29385-n', ['Kreuzungsbauwerk', 'Überwerfungsbauwerk']), ('w8072_33774-n', 'odenet-3014-n', ['Tunnel', 'Tunnelbauwerk', 'Tunell'])]\n",
      "MERONYMS: []\n",
      "HOLONYMS: []\n",
      "ANTONYMS: []\n",
      "LEMMA: Gebäude\n",
      "POS: n\n",
      "SENSE ID: w8072_33774-n\n",
      "LEMMA: Gebäude\n",
      "POS: n\n",
      "SENSE ID: w98500_28738-n\n"
     ]
    }
   ],
   "source": [
    "OdeNet.word_info(\"Gebäude\")"
   ]
  },
  {
   "cell_type": "markdown",
   "metadata": {},
   "source": [
    "Hier bekommt man die Lexikon-IDs für eine Liste von Wörtern."
   ]
  },
  {
   "cell_type": "code",
   "execution_count": 3,
   "metadata": {},
   "outputs": [
    {
     "name": "stdout",
     "output_type": "stream",
     "text": [
      "Frühling: w14145\n",
      "Sommer: w44811\n",
      "Herbst: w1202374\n",
      "Winter: w25612\n"
     ]
    }
   ],
   "source": [
    "wordlist = ['Frühling','Sommer','Herbst','Winter']\n",
    "for w in wordlist:\n",
    "    print(w + ': ' + OdeNet.word_id(w))"
   ]
  },
  {
   "cell_type": "markdown",
   "metadata": {},
   "source": [
    "Mit check_word_id bekommt man für eine Lexikon-ID Lemma, POS, Synsets und Relationen"
   ]
  },
  {
   "cell_type": "code",
   "execution_count": 4,
   "metadata": {},
   "outputs": [
    {
     "name": "stdout",
     "output_type": "stream",
     "text": [
      "LEMMA: Frühling\n",
      "POS: n\n",
      "SENSE ID: w14145_3067-n\n"
     ]
    }
   ],
   "source": [
    "check_word_id('w14145')"
   ]
  },
  {
   "cell_type": "markdown",
   "metadata": {},
   "source": [
    "Mit words_in_synset bekommt man die Wörter, die in einem Synset sind."
   ]
  },
  {
   "cell_type": "code",
   "execution_count": 5,
   "metadata": {},
   "outputs": [
    {
     "data": {
      "text/plain": [
       "['Alter',\n",
       " 'fortgeschrittenes Lebensalter',\n",
       " 'Rentenalter',\n",
       " 'Lebensabend',\n",
       " 'Herbst des Lebens']"
      ]
     },
     "execution_count": 5,
     "metadata": {},
     "output_type": "execute_result"
    }
   ],
   "source": [
    "words_in_synset('odenet-15920-n')"
   ]
  },
  {
   "cell_type": "markdown",
   "metadata": {},
   "source": [
    "Mit check_synset bekommt man alle Informationen zu einem Synset."
   ]
  },
  {
   "cell_type": "code",
   "execution_count": 2,
   "metadata": {},
   "outputs": [
    {
     "data": {
      "text/plain": [
       "('i12795',\n",
       " [],\n",
       " 'in gerader Richtung verlaufend, in gerader Strecke verlaufend',\n",
       " [],\n",
       " ['direkt', 'geradlinig', 'frontal', 'ohne Umwege', 'geradeaus', 'ohne Umweg'])"
      ]
     },
     "execution_count": 2,
     "metadata": {},
     "output_type": "execute_result"
    }
   ],
   "source": [
    "check_synset(\"odenet-1544-a\")"
   ]
  },
  {
   "cell_type": "code",
   "execution_count": 7,
   "metadata": {},
   "outputs": [
    {
     "data": {
      "text/plain": [
       "[('w9034_13770-v',\n",
       "  'odenet-10390-n',\n",
       "  ['Liegenschaft', 'Grundbesitz', 'Landbesitz']),\n",
       " ('w9034_15292-v', 'odenet-21765-n', ['Schulden', 'Fremdkapital'])]"
      ]
     },
     "execution_count": 7,
     "metadata": {},
     "output_type": "execute_result"
    }
   ],
   "source": [
    "hypernyms_word(\"überlassen\")"
   ]
  },
  {
   "cell_type": "code",
   "execution_count": 8,
   "metadata": {},
   "outputs": [
    {
     "data": {
      "text/plain": [
       "[('w64697_17741-n',\n",
       "  'odenet-14850-n',\n",
       "  ['Lager',\n",
       "   'Kinderlandverschickung',\n",
       "   'Freizeit',\n",
       "   'Ferienlager',\n",
       "   'Ferienfreizeit']),\n",
       " ('w64697_17741-n',\n",
       "  'odenet-17740-n',\n",
       "  ['Auftritt',\n",
       "   'Gig',\n",
       "   'Live Event',\n",
       "   'Live-Act',\n",
       "   'Live-Veranstaltung',\n",
       "   'Liveact',\n",
       "   'Live-Gig',\n",
       "   'Show',\n",
       "   'Live-Auftritt',\n",
       "   'Live-Entertainment']),\n",
       " ('w64697_17741-n',\n",
       "  'odenet-17742-n',\n",
       "  ['Tiershow', 'Tiertheater', 'Tierveranstaltung']),\n",
       " ('w64697_17741-n',\n",
       "  'odenet-214-n',\n",
       "  ['Besprechung', 'Consulting', 'Beratung', 'Konsultation', 'Gespräch']),\n",
       " ('w64697_17741-n', 'odenet-25683-n', ['Matinee', 'Vormittagsveranstaltung']),\n",
       " ('w64697_17741-n',\n",
       "  'odenet-2801-n',\n",
       "  ['Gespräch',\n",
       "   'Austausch',\n",
       "   'Unterhaltung',\n",
       "   'Gedankenaustausch',\n",
       "   'Zwiegespräch',\n",
       "   'Unterredung',\n",
       "   'Diskussion',\n",
       "   'Zwiesprache',\n",
       "   'Konversation',\n",
       "   'Wortwechsel',\n",
       "   'Aussprache',\n",
       "   'Dialog']),\n",
       " ('w64697_17741-n',\n",
       "  'odenet-32187-n',\n",
       "  ['Vorkurs',\n",
       "   'Einführungsveranstaltung',\n",
       "   'Vorbereitungskurs',\n",
       "   'Vorkursus',\n",
       "   'Propädeutikum']),\n",
       " ('w64697_17741-n',\n",
       "  'odenet-33873-n',\n",
       "  ['Großereignis', 'Großveranstaltung', 'Massenveranstaltung', 'Massenevent']),\n",
       " ('w64697_17741-n',\n",
       "  'odenet-3868-n',\n",
       "  ['Premierenfeier',\n",
       "   'Kick-off-Veranstaltung',\n",
       "   'Eröffnungsveranstaltung',\n",
       "   'Kick-off-Event',\n",
       "   'Auftaktveranstaltung']),\n",
       " ('w64697_17741-n',\n",
       "  'odenet-804-n',\n",
       "  ['Abendgesellschaft', 'Abendveranstaltung', 'bunter Abend', 'Soiree']),\n",
       " ('w64697_17741-n',\n",
       "  'odenet-8587-n',\n",
       "  ['Galaveranstaltung',\n",
       "   'Festveranstaltung',\n",
       "   'Festlichkeit',\n",
       "   'Festivität',\n",
       "   'Gala']),\n",
       " ('w64697_17741-n',\n",
       "  'odenet-9680-n',\n",
       "  ['Ball', 'Tanzabend', 'Tanzveranstaltung', 'Tanzfest', 'Tanzerei'])]"
      ]
     },
     "execution_count": 8,
     "metadata": {},
     "output_type": "execute_result"
    }
   ],
   "source": [
    "hyponyms_word(\"Veranstaltung\")"
   ]
  },
  {
   "cell_type": "code",
   "execution_count": 9,
   "metadata": {},
   "outputs": [
    {
     "data": {
      "text/plain": [
       "[('w12715_2720-n',\n",
       "  'odenet-14514-n',\n",
       "  ['Saudi-Arabien', 'Königreich Saudi-Arabien', 'Saudisch-Arabien']),\n",
       " ('w12715_2720-n', 'odenet-14519-n', ['Syrien', 'Arabische Republik Syrien']),\n",
       " ('w12715_2720-n', 'odenet-14516-n', ['Türkei', 'Republik Türkei']),\n",
       " ('w12715_9897-n', 'odenet-9309-n', ['Ferner Osten', 'Fernost'])]"
      ]
     },
     "execution_count": 9,
     "metadata": {},
     "output_type": "execute_result"
    }
   ],
   "source": [
    "meronyms_word(\"Morgenland\")"
   ]
  },
  {
   "cell_type": "code",
   "execution_count": 10,
   "metadata": {
    "scrolled": true
   },
   "outputs": [
    {
     "name": "stdout",
     "output_type": "stream",
     "text": [
      "zeigen v \n",
      "SENSE: odenet-533-v  ('i33216', [], 'Vorschlagen, etwas für jemanden zu tun.', [('hypernym', 'odenet-8644-v')], ['andienen', 'anbieten', 'bieten', 'zeigen'])\n",
      "\n",
      "SENSE: odenet-3065-v  ('i32498', [], 'Jemanden etwas sehen lassen.', [('hypernym', 'odenet-9246-v')], ['zeigen', 'präsentieren', 'darstellen', 'vorzeigen', 'abbilden', 'vorführen', 'demonstrieren', 'vorstellen'])\n",
      "\n",
      "SENSE: odenet-4206-v  ('i32440', [], 'Etwas öffentlich sagen.', [('hyponym', 'odenet-2339-v'), ('hyponym', 'odenet-11159-v'), ('hyponym', 'odenet-1192-v'), ('hyponym', 'odenet-22914-v'), ('hyponym', 'odenet-2770-v')], ['kundtun', 'zeigen', 'offenbaren', 'bekunden'])\n",
      "\n",
      "SENSE: odenet-5328-v  ('i25048', [], 'Die Wahrheit von etwas deutlich machen.', [('hypernym', 'odenet-12792-v')], ['bestätigen', 'zeigen', 'aufzeigen', 'nachweisen', 'belegen', 'Nachweis erbringen', 'Beweis erbringen für', 'beweisen'])\n",
      "\n",
      "SENSE: odenet-9990-v  ('i25049', [], 'Sich als etwas erweisen, offenbaren.', [], ['zeigen', 'niederschlagen', 'manifestieren'])\n",
      "\n",
      "SENSE: odenet-10538-v  ('i30180', [], 'In einem Bild darstellen.', [], ['zeigen', 'repräsentieren', 'wiedergeben', 'bildlich darstellen', 'darstellen', 'abbilden', 'zur Darstellung bringen'])\n",
      "\n",
      "HYPERNYMS: [('w2722_533-v', 'odenet-8644-v', ['übergeben', 'abgeben', 'durchgeben', 'weiterleiten', 'überweisen', 'weitergeben']), ('w2722_3065-v', 'odenet-9246-v', ['ausdrücken', 'sagen', 'formulieren', 'äußern', 'phrasieren', 'verbalisieren']), ('w2722_5328-v', 'odenet-12792-v', ['bestärken', 'bekräftigen', 'beleben'])]\n",
      "HYPONYMS: [('w2722_4206-v', 'odenet-2339-v', ['freilegen', 'freigeben']), ('w2722_4206-v', 'odenet-11159-v', ['anzeigen', 'indizieren', 'als angezeigt erscheinen lassen']), ('w2722_4206-v', 'odenet-1192-v', ['widerspiegeln', 'zurückwerfen', 'repräsentieren', 'spiegeln', 'wiedergeben', 'reflektieren']), ('w2722_4206-v', 'odenet-22914-v', ['enthüllen', 'aufdecken', 'etwas ans Licht bringen', 'etwas zum Vorschein bringen', 'Geheimnis lüften', 'etwas ans Tageslicht bringen', 'Schleier lüften']), ('w2722_4206-v', 'odenet-2770-v', ['auflegen', 'ausgeben', 'ausstellen', 'herausgeben', 'in Umlauf setzen', 'verbreiten', 'in Verkehr bringen', 'in Umlauf bringen', 'emittieren'])]\n",
      "MERONYMS: []\n",
      "HOLONYMS: []\n",
      "ANTONYMS: []\n"
     ]
    }
   ],
   "source": [
    "myword = \"zeigen\"\n",
    "(lemma_id, lemma_value, pos, senses) = check_word_lemma(myword)\n",
    "print (lemma_value + \" \" + pos + \" \")\n",
    "for sense in senses:\n",
    "    print(\"SENSE: \" + str(sense[1]) + \"  \" + str(check_synset(sense[1])) + \"\\n\")\n",
    "print(\"HYPERNYMS: \" + str(hypernyms_word(myword)))\n",
    "print(\"HYPONYMS: \" + str(hyponyms_word(myword)))\n",
    "print(\"MERONYMS: \" + str(meronyms_word(myword)))\n",
    "print(\"HOLONYMS: \" + str(holonyms_word(myword)))\n",
    "print(\"ANTONYMS: \" + str(antonyms_word(myword)))\n"
   ]
  },
  {
   "cell_type": "code",
   "execution_count": null,
   "metadata": {},
   "outputs": [],
   "source": []
  }
 ],
 "metadata": {
  "kernelspec": {
   "display_name": "Python 3",
   "language": "python",
   "name": "python3"
  },
  "language_info": {
   "codemirror_mode": {
    "name": "ipython",
    "version": 3
   },
   "file_extension": ".py",
   "mimetype": "text/x-python",
   "name": "python",
   "nbconvert_exporter": "python",
   "pygments_lexer": "ipython3",
   "version": "3.7.6"
  }
 },
 "nbformat": 4,
 "nbformat_minor": 4
}
