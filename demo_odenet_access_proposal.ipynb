{
 "cells": [
  {
   "cell_type": "code",
   "execution_count": 1,
   "metadata": {},
   "outputs": [],
   "source": [
    "from odenet import OdeNetReadOnly"
   ]
  },
  {
   "cell_type": "code",
   "execution_count": 2,
   "metadata": {},
   "outputs": [],
   "source": [
    "myodenet = OdeNetReadOnly()\n",
    "# reads deWordNet.xml from package and gives access to:\n",
    "# - complete file in one string\n",
    "# - individual lines from file string\n",
    "# - XML root\n",
    "# - Lexicon node in XML file"
   ]
  },
  {
   "cell_type": "code",
   "execution_count": 4,
   "metadata": {},
   "outputs": [
    {
     "data": {
      "text/plain": [
       "'<?xml vers'"
      ]
     },
     "execution_count": 4,
     "metadata": {},
     "output_type": "execute_result"
    }
   ],
   "source": [
    "myodenet.file_contents[:10]  # raw file contents (first 10 characters)"
   ]
  },
  {
   "cell_type": "code",
   "execution_count": 5,
   "metadata": {},
   "outputs": [
    {
     "data": {
      "text/plain": [
       "['<?xml version=\"1.0\" encoding=\"UTF-8\"?>',\n",
       " '<!DOCTYPE LexicalResource SYSTEM \"http://globalwordnet.github.io/schemas/WN-LMF-1.0.dtd\">',\n",
       " '<LexicalResource xmlns:dc=\"http://purl.org/dc/elements/1.1/\" >',\n",
       " '\\t<Lexicon id=\"odenet\"',\n",
       " '\\tlabel=\"Offenes Deutsches WordNet\"',\n",
       " '\\tlanguage=\"de\"',\n",
       " '\\temail=\"melanie.siegel@h-da.de\"',\n",
       " '\\tlicense=\"https://creativecommons.org/licenses/by-sa/4.0/\"',\n",
       " '\\tversion=\"1.3\"',\n",
       " '\\tcitation=\"\"']"
      ]
     },
     "execution_count": 5,
     "metadata": {},
     "output_type": "execute_result"
    }
   ],
   "source": [
    "myodenet.file_lines[:10]  # (first 10) lines in XML file"
   ]
  },
  {
   "cell_type": "code",
   "execution_count": 7,
   "metadata": {},
   "outputs": [
    {
     "data": {
      "text/plain": [
       "[('id', 'odenet'),\n",
       " ('label', 'Offenes Deutsches WordNet'),\n",
       " ('language', 'de'),\n",
       " ('email', 'melanie.siegel@h-da.de'),\n",
       " ('license', 'https://creativecommons.org/licenses/by-sa/4.0/'),\n",
       " ('version', '1.3'),\n",
       " ('citation', ''),\n",
       " ('url',\n",
       "  'https://ikum.mediencampus.h-da.de/projekt/open-de-wordnet-initiative/'),\n",
       " ('{http://purl.org/dc/elements/1.1/}publisher', 'Melanie Siegel'),\n",
       " ('{http://purl.org/dc/elements/1.1/}format', 'OMW-LMF'),\n",
       " ('{http://purl.org/dc/elements/1.1/}description',\n",
       "  'Odenet is an open wordnet for the German language. It is based on openThesaurus, a crowd-developed thesaurus of German, and automatically linked to the Princeton WordNet with some hand checking. It was built in May 2017.'),\n",
       " ('confidenceScore', '0.6')]"
      ]
     },
     "execution_count": 7,
     "metadata": {},
     "output_type": "execute_result"
    }
   ],
   "source": [
    "myodenet.lexicon.items()  # Lexicon XML node"
   ]
  },
  {
   "cell_type": "code",
   "execution_count": null,
   "metadata": {},
   "outputs": [],
   "source": []
  }
 ],
 "metadata": {
  "kernelspec": {
   "display_name": "Python 3",
   "language": "python",
   "name": "python3"
  },
  "language_info": {
   "codemirror_mode": {
    "name": "ipython",
    "version": 3
   },
   "file_extension": ".py",
   "mimetype": "text/x-python",
   "name": "python",
   "nbconvert_exporter": "python",
   "pygments_lexer": "ipython3",
   "version": "3.7.6"
  }
 },
 "nbformat": 4,
 "nbformat_minor": 4
}
